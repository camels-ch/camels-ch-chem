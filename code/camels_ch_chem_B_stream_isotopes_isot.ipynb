{
 "cells": [
  {
   "attachments": {},
   "cell_type": "markdown",
   "id": "46e94d6f",
   "metadata": {},
   "source": [
    "# ISOT Streamflow isotopes dataset extraction\n",
    "\n",
    "Author: Thiago Nascimento (thiago.nascimento@eawag.ch)\n",
    "\n",
    "This notebook is used to retrieve and concatenate the stream water isotopes dataset provided by ISOT.\n",
    "\n",
    "The output is one file per catchemnt (similar to the CAMELS-CH), with 4 columns:\n",
    "\n",
    "* date_start\n",
    "* date_end\n",
    "* delta_2h\n",
    "* delta_18o\n",
    "\n",
    "## Requirements\n",
    "**Python:**\n",
    "\n",
    "* Python>=3.6\n",
    "* Jupyter\n",
    "* geopandas=0.10.2\n",
    "* numpy\n",
    "* os\n",
    "* pandas=2.1.3\n",
    "* tqdm\n",
    "\n",
    "Check the Github repository for an environment.yml (for conda environments) or requirements.txt (pip) file.\n",
    "\n",
    "**Files:**\n",
    "\n",
    "* ISOT Flussdaten Messperiode für CAMELS_CH.xlsx\n",
    "\n",
    "\n",
    "**Directory:**\n",
    "\n",
    "* Clone the GitHub directory locally\n",
    "* Place any third-data variables in their respective directory.\n",
    "* ONLY update the \"PATH\" variable in the section \"Configurations\", with their relative path to the EStreams directory. \n",
    "\n",
    "\n",
    "## References\n",
    "* ISOT. ISOT module of the NAQUA National Groundwater Monitoring. https://www.bafu.admin.ch/bafu/en/home/topics/water/info-specialists/state-of-waterbodies/state-of-groundwater/naqua-national-groundwater-monitoring/isot-module.html (last access 20 Sep 2024).\n",
    "## Observations\n",
    "* None"
   ]
  },
  {
   "cell_type": "markdown",
   "id": "1f7648ab",
   "metadata": {},
   "source": [
    "# Import modules"
   ]
  },
  {
   "cell_type": "code",
   "execution_count": null,
   "id": "04f6e053",
   "metadata": {},
   "outputs": [],
   "source": [
    "import pandas as pd\n",
    "import geopandas as gpd\n",
    "import numpy as np\n",
    "import tqdm as tqdm\n",
    "import os\n",
    "import glob\n",
    "import warnings\n",
    "import re"
   ]
  },
  {
   "cell_type": "markdown",
   "id": "134a0050",
   "metadata": {},
   "source": [
    "# Configurations"
   ]
  },
  {
   "cell_type": "code",
   "execution_count": null,
   "id": "ec3eb41f",
   "metadata": {},
   "outputs": [],
   "source": [
    "# Only editable variables:\n",
    "# Relative path to your local directory\n",
    "PATH = \"../..\"\n",
    "\n",
    "# Suppress all warnings\n",
    "warnings.filterwarnings(\"ignore\")\n",
    "\n",
    "# Path to where the data are stored\n",
    "path_isot = r\"C:\\Users\\nascimth\\Documents\\data\\CAMELS_CH_Chem\\\\\""
   ]
  },
  {
   "cell_type": "markdown",
   "id": "0b0c1c1e",
   "metadata": {},
   "source": [
    "* #### The users should NOT change anything in the code below here. "
   ]
  },
  {
   "cell_type": "code",
   "execution_count": null,
   "id": "9d25b417",
   "metadata": {},
   "outputs": [],
   "source": [
    "# Non-editable variables:\n",
    "PATH_OUTPUT = r\"results\\water_isotopes\\isot\\\\\"\n",
    "\n",
    "# Set the directory:\n",
    "os.chdir(PATH)"
   ]
  },
  {
   "cell_type": "markdown",
   "id": "8b54907f",
   "metadata": {},
   "source": [
    "# Import data"
   ]
  },
  {
   "cell_type": "markdown",
   "id": "46c9d31d",
   "metadata": {},
   "source": [
    "- Network"
   ]
  },
  {
   "cell_type": "code",
   "execution_count": null,
   "id": "63b4579c",
   "metadata": {},
   "outputs": [],
   "source": [
    "# Network CAMELS_CH_Chem\n",
    "network_camels_ch_chem = pd.read_excel(path_isot+\"data/CAMELS_CH_chem_stations_short_v2.xlsx\", sheet_name='all_4')\n",
    "#network_camels_ch_chem.set_index(\"basin_id\", inplace=True)\n",
    "network_camels_ch_chem"
   ]
  },
  {
   "cell_type": "code",
   "execution_count": null,
   "id": "a5e063f9",
   "metadata": {},
   "outputs": [],
   "source": [
    "for sheet_id in range(9):\n",
    "\n",
    "    # Load the Excel file, selecting the second sheet (index 1) and skipping rows\n",
    "    dataset_isot = pd.read_excel(\n",
    "        path_isot+\"data/ISOTOPES/ISOT Flussdaten Messperiode für CAMELS_CH.xlsx\",\n",
    "        sheet_name=sheet_id,  # Index for the second sheet (0 is the first)\n",
    "        skiprows=12  # Skips the first 11 rows, adjust according to your needs\n",
    "    )\n",
    "\n",
    "    name_isot = pd.read_excel(\n",
    "        path_isot+\"data/ISOTOPES/ISOT Flussdaten Messperiode für CAMELS_CH.xlsx\",\n",
    "        sheet_name=sheet_id,  # Index for the second sheet (0 is the first)\n",
    "    )\n",
    "\n",
    "    name_isot = name_isot.iloc[3, 1]\n",
    "\n",
    "    code_isot = pd.read_excel(\n",
    "        path_isot+\"data/ISOTOPES/ISOT Flussdaten Messperiode für CAMELS_CH.xlsx\",\n",
    "        sheet_name=sheet_id,  # Index for the second sheet (0 is the first)\n",
    "    )\n",
    "\n",
    "    code_isot = code_isot.iloc[4, 1]\n",
    "\n",
    "    dataset_isot.columns = [\"date_start\", \"date_end\", \"delta_2h\", \"delta_18o\"]\n",
    "    dataset_isot[\"date_start\"] = pd.to_datetime(dataset_isot[\"date_start\"], format='%Y-%m-%d')\n",
    "    dataset_isot[\"date_end\"] = pd.to_datetime(dataset_isot[\"date_end\"], format='%Y-%m-%d')\n",
    "    dataset_isot.set_index(\"date_start\", inplace=True)\n",
    "    basin_id_name = str(network_camels_ch_chem[network_camels_ch_chem.isot_id == code_isot].loc[:, \"basin_id\"].values[0])\n",
    "\n",
    "    dataset_isot.to_csv(PATH_OUTPUT + \"/camels_ch_chem_isot_\"+str(basin_id_name)+\".csv\", encoding='latin')\n",
    "    \n",
    "    print(name_isot, code_isot)"
   ]
  },
  {
   "cell_type": "markdown",
   "id": "ac1b686e",
   "metadata": {},
   "source": [
    "Observations\n",
    "- We have 9 stations in total"
   ]
  },
  {
   "cell_type": "markdown",
   "id": "b608e26e",
   "metadata": {},
   "source": [
    "# End"
   ]
  }
 ],
 "metadata": {
  "kernelspec": {
   "display_name": "Python 3",
   "language": "python",
   "name": "python3"
  },
  "language_info": {
   "codemirror_mode": {
    "name": "ipython",
    "version": 3
   },
   "file_extension": ".py",
   "mimetype": "text/x-python",
   "name": "python",
   "nbconvert_exporter": "python",
   "pygments_lexer": "ipython3",
   "version": "3.9.18"
  }
 },
 "nbformat": 4,
 "nbformat_minor": 5
}
