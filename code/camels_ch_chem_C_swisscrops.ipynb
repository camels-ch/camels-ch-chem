{
 "cells": [
  {
   "cell_type": "markdown",
   "id": "46e94d6f",
   "metadata": {},
   "source": [
    "# Crop types (Switzerland) dataset extraction\n",
    "\n",
    "Author: Thiago Nascimento (thiago.nascimento@eawag.ch)\n",
    "\n",
    "This notebook is used to retrieve and concatenate the crop-types dataset into a table for publication alongisde the used data.\n",
    "\n",
    "## Requirements\n",
    "**Python:**\n",
    "\n",
    "* Python>=3.6\n",
    "* Jupyter\n",
    "* geopandas=0.10.2\n",
    "* numpy\n",
    "* os\n",
    "* pandas=2.1.3\n",
    "* tqdm\n",
    "\n",
    "Check the Github repository for an environment.yml (for conda environments) or requirements.txt (pip) file.\n",
    "\n",
    "**Files:**\n",
    "\n",
    "* Crops_Timeseries_1980_2019.xlsx\n",
    "\n",
    "\n",
    "**Directory:**\n",
    "\n",
    "* Clone the GitHub directory locally\n",
    "* Place any third-data variables in their respective directory.\n",
    "* ONLY update the \"PATH\" variable in the section \"Configurations\", with their relative path to the EStreams directory. \n",
    "\n",
    "\n",
    "## References\n",
    "* \n",
    "## Observations\n",
    "* "
   ]
  },
  {
   "cell_type": "markdown",
   "id": "1f7648ab",
   "metadata": {},
   "source": [
    "# Import modules"
   ]
  },
  {
   "cell_type": "code",
   "execution_count": null,
   "id": "04f6e053",
   "metadata": {},
   "outputs": [],
   "source": [
    "import pandas as pd\n",
    "import numpy as np\n",
    "import tqdm as tqdm\n",
    "import os\n",
    "import warnings\n",
    "import geopandas as gpd"
   ]
  },
  {
   "cell_type": "markdown",
   "id": "134a0050",
   "metadata": {},
   "source": [
    "# Configurations"
   ]
  },
  {
   "cell_type": "code",
   "execution_count": null,
   "id": "ec3eb41f",
   "metadata": {},
   "outputs": [],
   "source": [
    "# Only editable variables:\n",
    "# Relative path to your local directory\n",
    "PATH = \"../..\"\n",
    "# Suppress all warnings\n",
    "warnings.filterwarnings(\"ignore\")\n",
    "\n",
    "path_data = r\"C:\\Users\\nascimth\\Documents\\data\\CAMELS_CH_Chem\\data\""
   ]
  },
  {
   "cell_type": "markdown",
   "id": "0b0c1c1e",
   "metadata": {},
   "source": [
    "* #### The users should NOT change anything in the code below here. "
   ]
  },
  {
   "cell_type": "code",
   "execution_count": null,
   "id": "9d25b417",
   "metadata": {},
   "outputs": [],
   "source": [
    "# Non-editable variables:\n",
    "PATH_OUTPUT = r\"results\\Dataset\\catchment_aggregated_data\\agricultural_data\"\n",
    "\n",
    "# Set the directory:\n",
    "os.chdir(PATH)"
   ]
  },
  {
   "cell_type": "markdown",
   "id": "8b54907f",
   "metadata": {},
   "source": [
    "# Import data\n",
    "* Full table"
   ]
  },
  {
   "cell_type": "code",
   "execution_count": null,
   "id": "ba96cbd3",
   "metadata": {},
   "outputs": [],
   "source": [
    "Crops_Timeseries_1980_2019 = gpd.read_file(path_data+'\\\\agriculture\\Crops_Timeseries_1980_2019.csv')\n",
    "Crops_Timeseries_1980_2019[\"bafu_id\"] = Crops_Timeseries_1980_2019[\"gauge_id\"]\n",
    "Crops_Timeseries_1980_2019"
   ]
  },
  {
   "cell_type": "code",
   "execution_count": null,
   "id": "213e1db6",
   "metadata": {},
   "outputs": [],
   "source": [
    "# Network CAMELS_CH_Chem\n",
    "\n",
    "network_camels_ch_chem = pd.read_csv(r\"results\\Dataset\\gauges_metadata\\camels_ch_chem_gauges_metadata.csv\", encoding='utf-8')\n",
    "#network_camels_ch_chem.set_index(\"basin_id\", inplace=True)\n",
    "network_camels_ch_chem"
   ]
  },
  {
   "cell_type": "code",
   "execution_count": null,
   "id": "d0163b87",
   "metadata": {},
   "outputs": [],
   "source": [
    "Crops_Timeseries_1980_2019[\"nawaf_id\"] = Crops_Timeseries_1980_2019[\"naduf_id\"]\n",
    "Crops_Timeseries_1980_2019[\"nawat_id\"] = Crops_Timeseries_1980_2019[\"nawa_id\"]\n",
    "Crops_Timeseries_1980_2019[\"sensor_id\"] = Crops_Timeseries_1980_2019[\"bafu_id\"]"
   ]
  },
  {
   "cell_type": "code",
   "execution_count": null,
   "id": "e9487474",
   "metadata": {},
   "outputs": [],
   "source": [
    "Crops_Timeseries_1980_2019"
   ]
  },
  {
   "cell_type": "code",
   "execution_count": null,
   "id": "076de0c9",
   "metadata": {},
   "outputs": [],
   "source": [
    "Crops_Timeseries_1980_2019['bafu_id'] = Crops_Timeseries_1980_2019['bafu_id'].replace(\"<Null>\", 0)\n",
    "Crops_Timeseries_1980_2019['nawat_id'] = Crops_Timeseries_1980_2019['nawat_id'].replace(\"<Null>\", 0)\n",
    "Crops_Timeseries_1980_2019['nawaf_id'] = Crops_Timeseries_1980_2019['nawaf_id'].replace(\"<Null>\", 0)\n",
    "Crops_Timeseries_1980_2019['sensor_id'] = Crops_Timeseries_1980_2019['sensor_id'].replace(\"<Null>\", 0)\n",
    "Crops_Timeseries_1980_2019['gauge_id'] = Crops_Timeseries_1980_2019['gauge_id'].replace(\"<Null>\", 0)\n",
    "\n",
    "\n",
    "Crops_Timeseries_1980_2019"
   ]
  },
  {
   "cell_type": "code",
   "execution_count": null,
   "id": "c9ea1b39",
   "metadata": {},
   "outputs": [],
   "source": [
    "network_camels_ch_chem[\"basin_id\"] = network_camels_ch_chem[\"gauge_id\"]"
   ]
  },
  {
   "cell_type": "code",
   "execution_count": null,
   "id": "2ec523eb",
   "metadata": {},
   "outputs": [],
   "source": [
    "Crops_Timeseries_1980_2019"
   ]
  },
  {
   "cell_type": "code",
   "execution_count": null,
   "id": "6fbdf369",
   "metadata": {},
   "outputs": [],
   "source": [
    "Crops_Timeseries_1980_2019"
   ]
  },
  {
   "cell_type": "code",
   "execution_count": null,
   "id": "e5dfa65d",
   "metadata": {},
   "outputs": [],
   "source": [
    "network_camels_ch_chem[['sensor_id', 'basin_id']]"
   ]
  },
  {
   "cell_type": "code",
   "execution_count": null,
   "id": "d0dd3799",
   "metadata": {},
   "outputs": [],
   "source": [
    "network_camels_ch_chem[\"sensor_id\"] = network_camels_ch_chem[\"sensor_id\"].astype(float)\n",
    "network_camels_ch_chem[\"basin_id\"] = network_camels_ch_chem[\"basin_id\"].astype(float)\n",
    "\n",
    "\n",
    "network_camels_ch_chem[['sensor_id', 'basin_id']].dtypes"
   ]
  },
  {
   "cell_type": "code",
   "execution_count": null,
   "id": "85874392",
   "metadata": {},
   "outputs": [],
   "source": [
    "Crops_Timeseries_1980_2019[\"sensor_id\"] = Crops_Timeseries_1980_2019[\"sensor_id\"].astype(float)\n",
    "Crops_Timeseries_1980_2019[\"nawaf_id\"] = Crops_Timeseries_1980_2019[\"nawaf_id\"].astype(float)\n",
    "Crops_Timeseries_1980_2019[\"nawat_id\"] = Crops_Timeseries_1980_2019[\"nawat_id\"].astype(float)\n",
    "Crops_Timeseries_1980_2019[\"bafu_id\"] = Crops_Timeseries_1980_2019[\"bafu_id\"].astype(float)\n",
    "Crops_Timeseries_1980_2019[\"gauge_id\"] = Crops_Timeseries_1980_2019[\"gauge_id\"].astype(float)"
   ]
  },
  {
   "cell_type": "code",
   "execution_count": null,
   "id": "a974e855",
   "metadata": {},
   "outputs": [],
   "source": [
    "# Merge the DataFrames for achieving the bafu_id ias the last column\n",
    "Crops_Timeseries_1980_2019 = pd.merge(Crops_Timeseries_1980_2019, network_camels_ch_chem[['sensor_id', 'basin_id']], on='sensor_id', how='left')\n",
    "Crops_Timeseries_1980_2019 = pd.merge(Crops_Timeseries_1980_2019, network_camels_ch_chem[['nawaf_id', 'basin_id']], on='nawaf_id', how='left')\n",
    "Crops_Timeseries_1980_2019 = pd.merge(Crops_Timeseries_1980_2019, network_camels_ch_chem[['nawat_id', 'basin_id']], on='nawat_id', how='left')\n",
    "\n",
    "Crops_Timeseries_1980_2019"
   ]
  },
  {
   "cell_type": "code",
   "execution_count": null,
   "id": "594ede0c",
   "metadata": {},
   "outputs": [],
   "source": [
    "# Replace all 0s with NaN:\n",
    "Crops_Timeseries_1980_2019.loc[:, ['gauge_id', \"bafu_id\", \"nawaf_id\", \"nawat_id\", \"sensor_id\"]] = Crops_Timeseries_1980_2019.loc[:, ['gauge_id', \"bafu_id\", \"nawaf_id\", \"nawat_id\", \"sensor_id\"]].replace(0, np.nan)"
   ]
  },
  {
   "cell_type": "code",
   "execution_count": null,
   "id": "bd3a832a",
   "metadata": {},
   "outputs": [],
   "source": [
    "# Create the new 'basin_id' column based on the priority order\n",
    "Crops_Timeseries_1980_2019['basin_id_new'] = np.nan\n",
    "Crops_Timeseries_1980_2019['basin_id_new'] = np.where(\n",
    "    Crops_Timeseries_1980_2019['gauge_id'].notna(), Crops_Timeseries_1980_2019['basin_id_x'],\n",
    "    np.where(\n",
    "        Crops_Timeseries_1980_2019['nawaf_id'].notna(), Crops_Timeseries_1980_2019['basin_id_y'],\n",
    "        Crops_Timeseries_1980_2019['basin_id']\n",
    "    )\n",
    ")\n",
    "\n",
    "# Display the updated DataFrame\n",
    "Crops_Timeseries_1980_2019"
   ]
  },
  {
   "cell_type": "code",
   "execution_count": null,
   "id": "6d38c075",
   "metadata": {},
   "outputs": [],
   "source": [
    "# Here we can check the data\n",
    "Crops_Timeseries_1980_2019[Crops_Timeseries_1980_2019.basin_id_new.isna()]"
   ]
  },
  {
   "cell_type": "code",
   "execution_count": null,
   "id": "cd886701",
   "metadata": {},
   "outputs": [],
   "source": [
    "# Here we solve it manuallly\n",
    "Crops_Timeseries_1980_2019.loc[129, [\"basin_id_new\"]] = 2622.0\n",
    "Crops_Timeseries_1980_2019.loc[12, [\"basin_id_new\"]] = 2403.0\n",
    "\n",
    "Crops_Timeseries_1980_2019[Crops_Timeseries_1980_2019.basin_id_new.isna()]"
   ]
  },
  {
   "cell_type": "code",
   "execution_count": null,
   "id": "4be38f1b",
   "metadata": {},
   "outputs": [],
   "source": [
    "# Drop duplicates based on 'gauge_id'\n",
    "Crops_Timeseries_1980_2019_unique = Crops_Timeseries_1980_2019.drop_duplicates(subset=\"basin_id_new\")\n",
    "Crops_Timeseries_1980_2019_unique.set_index(\"basin_id_new\", inplace=True)\n",
    "Crops_Timeseries_1980_2019_unique"
   ]
  },
  {
   "cell_type": "code",
   "execution_count": null,
   "id": "9d6fcef3",
   "metadata": {},
   "outputs": [],
   "source": [
    "Crops_Timeseries_1980_2019_unique.drop(2622.0, axis=0, inplace=True)\n",
    "Crops_Timeseries_1980_2019_unique.drop(2403.0, axis=0, inplace=True)\n",
    "\n",
    "Crops_Timeseries_1980_2019_unique"
   ]
  },
  {
   "cell_type": "code",
   "execution_count": null,
   "id": "a8c22038",
   "metadata": {},
   "outputs": [],
   "source": [
    "Crops_Timeseries_1980_2019_unique"
   ]
  },
  {
   "cell_type": "code",
   "execution_count": null,
   "id": "3249da60",
   "metadata": {},
   "outputs": [],
   "source": [
    "crops_df = pd.DataFrame(index=network_camels_ch_chem.basin_id.astype(float))\n",
    "\n",
    "crops_df[Crops_Timeseries_1980_2019_unique.columns[13:283]] = Crops_Timeseries_1980_2019_unique[Crops_Timeseries_1980_2019_unique.columns[13:283]]"
   ]
  },
  {
   "cell_type": "code",
   "execution_count": null,
   "id": "55de19fc",
   "metadata": {},
   "outputs": [],
   "source": [
    "# Reset the index to have basin_id as a regular column\n",
    "df = crops_df.reset_index()\n",
    "\n",
    "# Melt dataframe to long format for easier manipulation\n",
    "df_long = df.melt(id_vars='basin_id', var_name='variable_year', value_name='value')\n",
    "\n",
    "# Split variable_year into 'variable' and 'year'\n",
    "df_long[['variable', 'year']] = df_long['variable_year'].str.rsplit(\"_\", n=1, expand=True)\n",
    "df_long.value = df_long.value.astype(float)\n",
    "\n",
    "# Pivot the dataframe to have a neat time series structure\n",
    "df_pivot = df_long.pivot_table(\n",
    "    index=['basin_id', 'year'], columns='variable', values='value'\n",
    ").reset_index()\n",
    "\n",
    "# Loop over each unique basin_id and save as separate CSV files\n",
    "for basin_id, basin_df in tqdm.tqdm(df_long.groupby('basin_id')):\n",
    "    # Pivot to wide format (variables as columns, years as rows)\n",
    "    df_pivot = basin_df.pivot(index='year', columns='variable', values='value')\n",
    "    df_pivot.columns = ['total_arable', 'cereal', 'grapevine', 'maize', 'orchard', 'potato', 'pulse',\n",
    "       'rapeseed', 'sugarbeet', 'vegetable']\n",
    "    \n",
    "    df_pivot = df_pivot[['cereal', 'maize', 'sugarbeet', 'potato', 'rapeseed', 'pulse',\n",
    "        'vegetable', 'total_arable', 'grapevine', 'orchard']]\n",
    "    \n",
    "    df_pivot.index = df_pivot.index.astype(int)\n",
    "\n",
    "    # Generate a full range of years from 1980 to 2019\n",
    "    full_range = pd.DataFrame(index=range(1980, 2020))\n",
    "\n",
    "    # Reindex the dataframe to include all years\n",
    "    df_pivot_interpolated = df_pivot.reindex(full_range.index)\n",
    "\n",
    "    # Interpolate missing values\n",
    "    df_pivot_interpolated = df_pivot_interpolated.interpolate(method='linear')\n",
    "\n",
    "\n",
    "    df_pivot_interpolated = df_pivot_interpolated.round(4)\n",
    "    df_pivot_interpolated.index.name = \"date\"\n",
    "\n",
    "    # Repeat the last row for 2020\n",
    "    df_pivot_interpolated.loc[2020] = df_pivot_interpolated.loc[2019]\n",
    "\n",
    "    df_pivot_interpolated.to_csv(PATH_OUTPUT + \"/camels_ch_chem_swisscrops_\"+str(int(basin_id))+\".csv\", encoding='latin')"
   ]
  },
  {
   "cell_type": "markdown",
   "id": "b608e26e",
   "metadata": {},
   "source": [
    "# End"
   ]
  }
 ],
 "metadata": {
  "kernelspec": {
   "display_name": "Python 3",
   "language": "python",
   "name": "python3"
  },
  "language_info": {
   "codemirror_mode": {
    "name": "ipython",
    "version": 3
   },
   "file_extension": ".py",
   "mimetype": "text/x-python",
   "name": "python",
   "nbconvert_exporter": "python",
   "pygments_lexer": "ipython3",
   "version": "3.9.18"
  }
 },
 "nbformat": 4,
 "nbformat_minor": 5
}
