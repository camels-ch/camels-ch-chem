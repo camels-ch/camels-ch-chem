{
 "cells": [
  {
   "attachments": {},
   "cell_type": "markdown",
   "id": "46e94d6f",
   "metadata": {},
   "source": [
    "# NAWA FRACHT dataset extraction\n",
    "\n",
    "Author: Thiago Nascimento (thiago.nascimento@eawag.ch)\n",
    "\n",
    "This notebook is used to retrieve and concatenate the NAWA FRACHT (NADUF) dataset. \n",
    "\n",
    "The output is one file per catchemnt (similar to the CAMELS-CH), with 44 columns:\n",
    "\n",
    "- date_start\n",
    "- date_end \n",
    "- alk\n",
    "- As\n",
    "- Ba\n",
    "- Br\n",
    "- Cd\n",
    "- Ca\n",
    "- Cl\n",
    "- Cr\n",
    "- Cu\n",
    "- doc\n",
    "- drp\n",
    "- ec25_sensor\n",
    "- ec20_lab\n",
    "- F\n",
    "- Fe\n",
    "- Pb\n",
    "- Mg\n",
    "- q_mean_sensor\n",
    "- Hg\n",
    "- Ni\n",
    "- NO3_N\n",
    "- O2C_sensor\n",
    "- O2S_sensor\n",
    "- pH_lab\n",
    "- pH_sensor\n",
    "- K\n",
    "- H4SiO4\n",
    "- Na\n",
    "- Sr\n",
    "- SO4\n",
    "- tfp\n",
    "- th\n",
    "- tn\n",
    "- toc\n",
    "- tp\n",
    "- tss\n",
    "- temp_sensor\n",
    "- Zn\n",
    "\n",
    "## Requirements\n",
    "**Python:**\n",
    "\n",
    "* Python>=3.6\n",
    "* Jupyter\n",
    "* geopandas=0.10.2\n",
    "* numpy\n",
    "* os\n",
    "* pandas=2.1.3\n",
    "* scipy=1.9.0\n",
    "* tqdm\n",
    "\n",
    "Check the Github repository for an environment.yml (for conda environments) or requirements.txt (pip) file.\n",
    "\n",
    "**Files:**\n",
    "\n",
    "* naduf_data_1981-2020_v6.xlsx\n",
    "\n",
    "\n",
    "**Directory:**\n",
    "\n",
    "* Clone the GitHub directory locally\n",
    "* Place any third-data variables in their respective directory.\n",
    "* ONLY update the \"PATH\" variable in the section \"Configurations\", with their relative path to the EStreams directory. \n",
    "\n",
    "\n",
    "## References\n",
    "* NADUF. National River Monitoring and Survey Programme, https://www.bafu.admin.ch/bafu/en/home/topics/water/state/water--monitoring-networks/national-surface-water-quality-monitoring-programme--nawa-/national-river-monitoring-and-survey-programme--naduf-.html (last access: 20 Sep 2024).\n",
    "## Observations\n",
    "* None"
   ]
  },
  {
   "cell_type": "markdown",
   "id": "1f7648ab",
   "metadata": {},
   "source": [
    "# Import modules"
   ]
  },
  {
   "cell_type": "code",
   "execution_count": null,
   "id": "04f6e053",
   "metadata": {},
   "outputs": [],
   "source": [
    "import pandas as pd\n",
    "import tqdm as tqdm\n",
    "import os\n",
    "import warnings"
   ]
  },
  {
   "cell_type": "markdown",
   "id": "134a0050",
   "metadata": {},
   "source": [
    "# Configurations"
   ]
  },
  {
   "cell_type": "code",
   "execution_count": null,
   "id": "ec3eb41f",
   "metadata": {},
   "outputs": [],
   "source": [
    "# Only editable variables:\n",
    "# Relative path to your local directory\n",
    "PATH = \"../..\"\n",
    "\n",
    "# Suppress all warnings\n",
    "warnings.filterwarnings(\"ignore\")\n",
    "\n",
    "# Path to where the data are stored\n",
    "path_naduf = r\"C:\\Users\\nascimth\\Documents\\data\\CAMELS_CH_Chem\\\\\""
   ]
  },
  {
   "cell_type": "markdown",
   "id": "0b0c1c1e",
   "metadata": {},
   "source": [
    "* #### The users should NOT change anything in the code below here. "
   ]
  },
  {
   "cell_type": "code",
   "execution_count": null,
   "id": "9d25b417",
   "metadata": {},
   "outputs": [],
   "source": [
    "# Non-editable variables:\n",
    "PATH_OUTPUT = r\"results\\Dataset\\stream_water_chemistry\\interval_samples\"\n",
    "\n",
    "# Set the directory:\n",
    "os.chdir(PATH)"
   ]
  },
  {
   "cell_type": "markdown",
   "id": "8b54907f",
   "metadata": {},
   "source": [
    "# Import data"
   ]
  },
  {
   "cell_type": "code",
   "execution_count": null,
   "id": "ba96cbd3",
   "metadata": {},
   "outputs": [],
   "source": [
    "# Full dataset of interval (time-series)\n",
    "dataset_naduf = pd.read_excel(path_naduf+r\"data\\NADUF\\naduf_data_1981-2020_v6.xlsx\")\n",
    "dataset_naduf"
   ]
  },
  {
   "cell_type": "markdown",
   "id": "46c9d31d",
   "metadata": {},
   "source": [
    "- Network"
   ]
  },
  {
   "cell_type": "code",
   "execution_count": null,
   "id": "4cd36822",
   "metadata": {},
   "outputs": [],
   "source": [
    "# Network NADUF\n",
    "network_naduf = pd.read_excel(path_naduf+\"data\\CAMELS_CH_chem_stations_short_v3.xlsx\", sheet_name='naduf')\n",
    "network_naduf"
   ]
  },
  {
   "cell_type": "code",
   "execution_count": null,
   "id": "49ef84e4",
   "metadata": {},
   "outputs": [],
   "source": [
    "len(dataset_naduf.naduf_id.unique())"
   ]
  },
  {
   "cell_type": "code",
   "execution_count": null,
   "id": "3de2e2a4",
   "metadata": {},
   "outputs": [],
   "source": [
    "dataset_naduf.naduf_id.unique()"
   ]
  },
  {
   "cell_type": "markdown",
   "id": "8c4a9306",
   "metadata": {},
   "source": [
    "Observations\n",
    "- 1827 is not present in the dataset. "
   ]
  },
  {
   "cell_type": "markdown",
   "id": "e9300033",
   "metadata": {},
   "source": [
    "### Renaming the columns"
   ]
  },
  {
   "cell_type": "code",
   "execution_count": null,
   "id": "b955f875",
   "metadata": {},
   "outputs": [],
   "source": [
    "dataset_naduf.columns"
   ]
  },
  {
   "cell_type": "code",
   "execution_count": null,
   "id": "a0522fd9",
   "metadata": {},
   "outputs": [],
   "source": [
    "column_rename_dict = {\n",
    "    'naduf_id': 'nawafracht_id', \n",
    "    'status_number': 'status_number', \n",
    "    'remark':'remark' , \n",
    "    'year':'year', \n",
    "    'date_end':'date_end', \n",
    "    'duration':'duration',\n",
    "    'mean_discharge': 'q_mean_sensor',\n",
    "    'total_discharge': 'total_discharge(Miom3)',\n",
    "    'temperature_BAFU': 'temp_sensor',\n",
    "    'pH_BAFU': 'pH_sensor',\n",
    "    'conductivity_25C_BAFU': 'ec25_sensor',\n",
    "    'oxygen': 'O2C_sensor',\n",
    "    'oxygen_saturation': 'O2S_sensor',\n",
    "    'pH_lab': 'pH_lab',\n",
    "    'conductivity_20C_lab': 'ec20_lab',\n",
    "    'total_hardness': 'th',\n",
    "    'alkalinity': 'alk',\n",
    "    'calcium': 'Ca',\n",
    "    'magnesium': 'Mg',\n",
    "    'nitrate': 'NO3_N',\n",
    "    'total_nitrogen': 'tn',\n",
    "    'DRP': 'drp',\n",
    "    'total_phosphorus': 'tp',\n",
    "    'total_phosphorus_filtered': 'tfp',\n",
    "    'chloride': 'Cl',\n",
    "    'fluoride': 'F',\n",
    "    'bromide': 'Br',\n",
    "    'silicate': 'H4SiO4',\n",
    "    'sulphate': 'SO4',\n",
    "    'sodium': 'Na',\n",
    "    'potassium': 'K',\n",
    "    'iron': 'Fe',\n",
    "    'TOC': 'toc',\n",
    "    'DOC': 'doc',\n",
    "    'suspended_material': 'tss',\n",
    "    'chromium': 'Cr',\n",
    "    'zinc': 'Zn',\n",
    "    'copper': 'Cu',\n",
    "    'cadmium': 'Cd',\n",
    "    'lead': 'Pb',\n",
    "    'nickel': 'Ni',\n",
    "    'mercury': 'Hg',\n",
    "    'barium': 'Ba',\n",
    "    'strontium': 'Sr',\n",
    "    'arsenic': 'As',\n",
    "    'manganese': 'Mn'\n",
    "}"
   ]
  },
  {
   "cell_type": "code",
   "execution_count": null,
   "id": "5dcf8d67",
   "metadata": {},
   "outputs": [],
   "source": [
    "# Rename columns based on the dictionary\n",
    "dataset_naduf.rename(columns=column_rename_dict, inplace=True)"
   ]
  },
  {
   "cell_type": "code",
   "execution_count": null,
   "id": "209b13ac",
   "metadata": {},
   "outputs": [],
   "source": [
    "(dataset_naduf.duration/24).min()"
   ]
  },
  {
   "cell_type": "code",
   "execution_count": null,
   "id": "9c62238a",
   "metadata": {},
   "outputs": [],
   "source": [
    "# Convert to datetime:\n",
    "dataset_naduf[\"date_end\"] = pd.to_datetime(dataset_naduf[\"date_end\"], format='%Y-%m-%d')\n",
    "\n",
    "# Subtract hours (duration_column) from datetime_column\n",
    "dataset_naduf['date_start'] = dataset_naduf['date_end'] - pd.to_timedelta(dataset_naduf['duration'], unit='h')\n",
    "\n",
    "# Round the datetime to the nearest minute\n",
    "dataset_naduf['date_start'] = dataset_naduf['date_start'].dt.round('S')\n",
    "\n",
    "dataset_naduf"
   ]
  },
  {
   "cell_type": "code",
   "execution_count": null,
   "id": "72f9ffd5",
   "metadata": {},
   "outputs": [],
   "source": [
    "#dataset_naduf = dataset_naduf[['naduf_id', 'date',\n",
    "#       'mean_discharge(m3/s)',\n",
    "#       'temperature(°C)', 'pH(-)', 'conductivity_25C(µS/cm)',\n",
    "#       'oxygen(mg/l)', 'oxygen_saturation(%)', 'pH_lab(-)',\n",
    "#       'conductivity_20C_lab(µS/cm)', 'total_hardness(mmol/l)',\n",
    "#       'alkalinity(mmol/l)', 'calcium(mg/l)', 'magnesium(mg/l)',\n",
    "#       'nitrate(mgN/l)', 'total_nitrogen(mgN/l)', 'DRP(mgP/l)',\n",
    "#       'total_phosphorus(mgP/l)', 'total_phosphorus_filtered(mgP/l)',\n",
    "#       'chloride(mg/l)', 'fluoride(mg/l)', 'bromide(mg/l)',\n",
    "#       'silicate(mgH4SiO4/l)', 'sulphate(mgSO4/l)', 'sodium(mg/l)',\n",
    "#       'potassium(mg/l)', 'iron(mg/l)', 'TOC(mgC/l)', 'DOC(mgC/l)',\n",
    "#       'suspended_material(mg/l)', 'chromium(µg/l)', 'zinc(µg/l)',\n",
    "#       'copper(µg/l)', 'cadmium(µg/l)', 'lead(µg/l)', 'nickel(µg/l)',\n",
    "#       'mercury(µg/l)', 'barium(µg/l)', 'strontium(µg/l)', 'arsenic(µg/l)',\n",
    "#       'manganese(µg/l)']]\n",
    "#dataset_naduf"
   ]
  },
  {
   "cell_type": "code",
   "execution_count": null,
   "id": "08b2d519",
   "metadata": {},
   "outputs": [],
   "source": [
    "dataset_naduf = dataset_naduf[[\n",
    "    'nawafracht_id', \n",
    "    'date_start',\n",
    "    'date_end', \n",
    "    'alk',\n",
    "    'As',\n",
    "    'Ba',\n",
    "    'Br',\n",
    "    'Cd',\n",
    "    'Ca',\n",
    "    'Cl',\n",
    "    'Cr',\n",
    "    'Cu',\n",
    "    'doc',\n",
    "    'drp',\n",
    "    'ec25_sensor',\n",
    "    'ec20_lab',\n",
    "    'F',\n",
    "    'Fe',\n",
    "    'Pb',\n",
    "    'Mg',\n",
    "    'q_mean_sensor',\n",
    "    'Hg',\n",
    "    'Ni',\n",
    "    'NO3_N',\n",
    "    'O2C_sensor',\n",
    "    'O2S_sensor',\n",
    "    'pH_lab',\n",
    "    'pH_sensor',\n",
    "    'K',\n",
    "    'H4SiO4',\n",
    "    'Na',\n",
    "    'Sr',\n",
    "    'SO4',\n",
    "    'tfp',\n",
    "    'th',\n",
    "    'tn',\n",
    "    'toc',\n",
    "    'tp',\n",
    "    'tss',\n",
    "    'temp_sensor',\n",
    "    'Zn',\n",
    "    ]]\n",
    "dataset_naduf"
   ]
  },
  {
   "cell_type": "code",
   "execution_count": null,
   "id": "2e4e61dc",
   "metadata": {},
   "outputs": [],
   "source": [
    "# Function to round numbers and preserve symbols\n",
    "def round_values(val):\n",
    "    if isinstance(val, str):  # Handle string values with symbols\n",
    "        if val.startswith('>') or val.startswith('<'):\n",
    "            symbol = val[0]  # Extract the symbol ('>' or '<')\n",
    "            try:\n",
    "                number = float(val[1:])  # Convert the rest to a float\n",
    "                return f\"{symbol}{round(number, 4)}\"\n",
    "            except ValueError:  # Handle cases where conversion might fail\n",
    "                return val\n",
    "        else:\n",
    "            try:\n",
    "                return str(round(float(val), 4))  # Round plain string numbers\n",
    "            except ValueError:\n",
    "                return val  # Return original value if conversion fails\n",
    "    elif isinstance(val, (int, float)):  # Handle numeric values\n",
    "        return round(val, 4)\n",
    "    return val  # Return unchanged if it's neither string nor numeric"
   ]
  },
  {
   "cell_type": "code",
   "execution_count": null,
   "id": "b70e53a4",
   "metadata": {},
   "outputs": [],
   "source": [
    "# Network CAMELS_CH_Chem\n",
    "network_camels_ch_chem = pd.read_excel(path_naduf+r\"data\\CAMELS_CH_chem_stations_short_v3.xlsx\", sheet_name='all_5')\n",
    "#network_camels_ch_chem.set_index(\"basin_id\", inplace=True)\n",
    "network_camels_ch_chem"
   ]
  },
  {
   "cell_type": "code",
   "execution_count": null,
   "id": "a5d82bf4",
   "metadata": {},
   "outputs": [],
   "source": [
    "for code in tqdm.tqdm(network_naduf.naduf_id):\n",
    "    \n",
    "    dataset = dataset_naduf[dataset_naduf[\"nawafracht_id\"] == code]\n",
    "    dataset.set_index(\"date_start\", inplace = True)\n",
    "    dataset.drop([\"nawafracht_id\"], axis=1, inplace = True)\n",
    "    \n",
    "    dataset.index.name = \"date_start\"\n",
    "    \n",
    "    # Apply the function to the column\n",
    "    dataset = dataset.applymap(round_values)\n",
    "\n",
    "    # There are some non-numeric things in the columns, instead of NaNs\n",
    "    #dataset = dataset.apply(pd.to_numeric, errors='coerce')\n",
    "    \n",
    "    # Here we take out the > or < before converting to a numeric value:\n",
    "    #dataset = dataset.applymap(lambda x: str(x).replace('<', '') if isinstance(x, str) else x)\n",
    "    #dataset = dataset.applymap(lambda x: str(x).replace('>', '') if isinstance(x, str) else x)\n",
    "\n",
    "    # There are some non-numeric things in the columns, instead of NaNs\n",
    "    #dataset = dataset.apply(pd.to_numeric, errors='coerce')\n",
    "\n",
    "    #dataset = dataset.round(4)\n",
    "    basin_id_name = str(network_camels_ch_chem[network_camels_ch_chem.naduf_id == code].loc[:, \"basin_id\"].values[0])\n",
    "\n",
    "    dataset.to_csv(PATH_OUTPUT + \"\\\\nawa_fracht\\camels_ch_chem_nawafracht_\"+str(basin_id_name)+\".csv\", encoding='latin')"
   ]
  },
  {
   "cell_type": "markdown",
   "id": "ac1b686e",
   "metadata": {},
   "source": [
    "Observations\n",
    "- We have 24 stations in total (one is empty: 1827)\n",
    "- So far, the intervals are variable (not resampled)"
   ]
  },
  {
   "cell_type": "markdown",
   "id": "b608e26e",
   "metadata": {},
   "source": [
    "# End"
   ]
  }
 ],
 "metadata": {
  "kernelspec": {
   "display_name": "Python 3",
   "language": "python",
   "name": "python3"
  },
  "language_info": {
   "codemirror_mode": {
    "name": "ipython",
    "version": 3
   },
   "file_extension": ".py",
   "mimetype": "text/x-python",
   "name": "python",
   "nbconvert_exporter": "python",
   "pygments_lexer": "ipython3",
   "version": "3.9.18"
  }
 },
 "nbformat": 4,
 "nbformat_minor": 5
}
