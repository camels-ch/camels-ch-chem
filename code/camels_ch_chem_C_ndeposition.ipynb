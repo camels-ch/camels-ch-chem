{
 "cells": [
  {
   "cell_type": "markdown",
   "id": "46e94d6f",
   "metadata": {},
   "source": [
    "# Atmospheric deposition dataset extraction\n",
    "\n",
    "Author: Thiago Nascimento (thiago.nascimento@eawag.ch)\n",
    "\n",
    "This notebook is used to retrieve and concatenate the atmospheric deposition data into a table for publication alongisde the used data.\n",
    "\n",
    "\n",
    "## Requirements\n",
    "**Python:**\n",
    "\n",
    "* Python>=3.6\n",
    "* Jupyter\n",
    "* geopandas=0.10.2\n",
    "* numpy\n",
    "* os\n",
    "* pandas=2.1.3\n",
    "* scipy=1.9.0\n",
    "* tqdm\n",
    "\n",
    "Check the Github repository for an environment.yml (for conda environments) or requirements.txt (pip) file.\n",
    "\n",
    "**Files:**\n",
    "\n",
    "* \n",
    "\n",
    "\n",
    "**Directory:**\n",
    "\n",
    "* Clone the GitHub directory locally\n",
    "* Place any third-data variables in their respective directory.\n",
    "* ONLY update the \"PATH\" variable in the section \"Configurations\", with their relative path to the EStreams directory. \n",
    "\n",
    "\n",
    "## References\n",
    "* \n",
    "## Observations\n",
    "* "
   ]
  },
  {
   "cell_type": "markdown",
   "id": "1f7648ab",
   "metadata": {},
   "source": [
    "# Import modules"
   ]
  },
  {
   "cell_type": "code",
   "execution_count": null,
   "id": "04f6e053",
   "metadata": {},
   "outputs": [],
   "source": [
    "import tqdm as tqdm\n",
    "import os\n",
    "import warnings\n",
    "import geopandas as gpd\n",
    "import os\n",
    "from collections import defaultdict"
   ]
  },
  {
   "cell_type": "markdown",
   "id": "134a0050",
   "metadata": {},
   "source": [
    "# Configurations"
   ]
  },
  {
   "cell_type": "code",
   "execution_count": null,
   "id": "ec3eb41f",
   "metadata": {},
   "outputs": [],
   "source": [
    "# Only editable variables:\n",
    "# Relative path to your local directory\n",
    "PATH = \"../..\"\n",
    "# Suppress all warnings\n",
    "warnings.filterwarnings(\"ignore\")\n",
    "\n",
    "path_data = r\"C:\\Users\\nascimth\\Documents\\data\\CAMELS_CH_Chem\\data\""
   ]
  },
  {
   "cell_type": "markdown",
   "id": "0b0c1c1e",
   "metadata": {},
   "source": [
    "* #### The users should NOT change anything in the code below here. "
   ]
  },
  {
   "cell_type": "code",
   "execution_count": null,
   "id": "9d25b417",
   "metadata": {},
   "outputs": [],
   "source": [
    "# Non-editable variables:\n",
    "PATH_OUTPUT = r\"results\\Dataset\\catchment_aggregated_data\\atmospheric_deposition\"\n",
    "\n",
    "# Set the directory:\n",
    "os.chdir(PATH)"
   ]
  },
  {
   "cell_type": "markdown",
   "id": "8b54907f",
   "metadata": {},
   "source": [
    "# Import data"
   ]
  },
  {
   "cell_type": "code",
   "execution_count": null,
   "id": "4b5c5137",
   "metadata": {},
   "outputs": [],
   "source": [
    "catchments = gpd.read_file(\"results\\Dataset\\shapefiles\\camels_ch_del\\camels_ch_chem_catchment_boundaries.shp\")\n",
    "\n",
    "catchments"
   ]
  },
  {
   "cell_type": "code",
   "execution_count": null,
   "id": "cc1aa3fa",
   "metadata": {},
   "outputs": [],
   "source": [
    "# List of filenames\n",
    "filenames_rasters = [\n",
    "    'Ndep_cog500_241105_Teil1_Teil2/dhno3gas_1990.tif',\n",
    "    'Ndep_cog500_241105_Teil1_Teil2/dhno3gas_2000.tif',\n",
    "    'Ndep_cog500_241105_Teil1_Teil2/dhno3gas_2005.tif',\n",
    "    'Ndep_cog500_241105_Teil1_Teil2/dhno3gas_2010.tif',\n",
    "    'Ndep_cog500_241105_Teil1_Teil2/dhno3gas_2015.tif',\n",
    "    'Ndep_cog500_241105_Teil1_Teil2/dhno3gas_2020.tif',\n",
    "    'Ndep_cog500_241105_Teil1_Teil2/dnh3gas_1990.tif',\n",
    "    'Ndep_cog500_241105_Teil1_Teil2/dnh3gas_2000.tif',\n",
    "    'Ndep_cog500_241105_Teil1_Teil2/dnh3gas_2005.tif',\n",
    "    'Ndep_cog500_241105_Teil1_Teil2/dnh3gas_2010.tif',\n",
    "    'Ndep_cog500_241105_Teil1_Teil2/dnh3gas_2015.tif',\n",
    "    'Ndep_cog500_241105_Teil1_Teil2/dnh3gas_2020.tif',\n",
    "    'Ndep_cog500_241105_Teil1_Teil2/dnh4total_1990.tif',\n",
    "    'Ndep_cog500_241105_Teil1_Teil2/dnh4total_2000.tif',\n",
    "    'Ndep_cog500_241105_Teil1_Teil2/dnh4total_2005.tif',\n",
    "    'Ndep_cog500_241105_Teil1_Teil2/dnh4total_2010.tif',\n",
    "    'Ndep_cog500_241105_Teil1_Teil2/dnh4total_2015.tif',\n",
    "    'Ndep_cog500_241105_Teil1_Teil2/dnh4total_2020.tif',\n",
    "    'Ndep_cog500_241105_Teil1_Teil2/dno2gas_1990.tif',\n",
    "    'Ndep_cog500_241105_Teil1_Teil2/dno2gas_2000.tif',\n",
    "    'Ndep_cog500_241105_Teil1_Teil2/dno2gas_2005.tif',\n",
    "    'Ndep_cog500_241105_Teil1_Teil2/dno2gas_2010.tif',\n",
    "    'Ndep_cog500_241105_Teil1_Teil2/dno2gas_2015.tif',\n",
    "    'Ndep_cog500_241105_Teil1_Teil2/dno2gas_2020.tif',\n",
    "    'Ndep_cog500_241105_Teil1_Teil2/dno3total_1990.tif',\n",
    "    'Ndep_cog500_241105_Teil1_Teil2/dno3total_2000.tif',\n",
    "    'Ndep_cog500_241105_Teil1_Teil2/dno3total_2005.tif',\n",
    "    'Ndep_cog500_241105_Teil1_Teil2/dno3total_2010.tif',\n",
    "    'Ndep_cog500_241105_Teil1_Teil2/dno3total_2015.tif',\n",
    "    'Ndep_cog500_241105_Teil1_Teil2/dno3total_2020.tif',\n",
    "    'Ndep_cog500_241105_Teil1_Teil2/dntotal_1990.tif',\n",
    "    'Ndep_cog500_241105_Teil1_Teil2/dntotal_2000.tif',\n",
    "    'Ndep_cog500_241105_Teil1_Teil2/dntotal_2005.tif',\n",
    "    'Ndep_cog500_241105_Teil1_Teil2/dntotal_2010.tif',\n",
    "    'Ndep_cog500_241105_Teil1_Teil2/dntotal_2015.tif',\n",
    "    'Ndep_cog500_241105_Teil1_Teil2/dntotal_2020.tif'\n",
    "]\n",
    "\n",
    "# Group files by their prefixes\n",
    "file_groups = defaultdict(list)\n",
    "\n",
    "for filename in filenames_rasters:\n",
    "    prefix = filename.split(\"/\")[-1].split(\"_\")[0]  # Extract prefix (e.g., 'dhno3gas')\n",
    "    file_groups[prefix].append(filename)"
   ]
  },
  {
   "cell_type": "code",
   "execution_count": null,
   "id": "c6cd2165",
   "metadata": {},
   "outputs": [],
   "source": [
    "file_groups.keys()"
   ]
  },
  {
   "cell_type": "markdown",
   "id": "64445eba",
   "metadata": {},
   "source": [
    "## Reproject to projected coordinates system\n"
   ]
  },
  {
   "cell_type": "code",
   "execution_count": null,
   "id": "39c00998",
   "metadata": {},
   "outputs": [],
   "source": [
    "# Define the target CRS to ETRS89 LAEA\n",
    "target_crs = 'EPSG:2056'\n",
    "\n",
    "# Reproject the GeoDataFrame to the target CRS\n",
    "catchments_unique_reprojected = catchments.to_crs(target_crs)"
   ]
  },
  {
   "cell_type": "code",
   "execution_count": null,
   "id": "708e4a62",
   "metadata": {},
   "outputs": [],
   "source": [
    "# Set the index and adjust to int (instead of float)\n",
    "catchments_unique_reprojected.set_index(\"gauge_id\", inplace=True)\n",
    "catchments_unique_reprojected.index = catchments_unique_reprojected.index.astype(int)"
   ]
  },
  {
   "cell_type": "markdown",
   "id": "041834f3",
   "metadata": {},
   "source": [
    "## Computation processes\n"
   ]
  },
  {
   "cell_type": "code",
   "execution_count": null,
   "id": "4aab547e",
   "metadata": {},
   "outputs": [],
   "source": [
    "# Convert DataFrame to GeoDataFrame with valid geometries\n",
    "catchments_unique_reprojected = gpd.GeoDataFrame(\n",
    "    catchments_unique_reprojected,\n",
    "    geometry=catchments_unique_reprojected['geometry'],  # Use the existing geometry column\n",
    "    crs=\"EPSG:2056\"  # Adjust CRS as necessary\n",
    ")"
   ]
  },
  {
   "cell_type": "code",
   "execution_count": null,
   "id": "7f09dbfa",
   "metadata": {},
   "outputs": [],
   "source": [
    "from tqdm import tqdm\n",
    "import pandas as pd\n",
    "import rasterio\n",
    "import numpy as np\n",
    "from rasterio.mask import geometry_mask\n",
    "from shapely.geometry import mapping\n",
    "from rasterio.features import geometry_mask\n",
    "\n",
    "# Define prefixes for their names based on the order of lecture\n",
    "prefix_values = [\"1990_\", \"2000_\", \"2005_\", \"2010_\", \"2015_\", \"2020_\"]\n",
    "\n",
    "compounds = ['dhno3gas', 'dnh3gas', 'dnh4total', 'dno2gas', 'dno3total', 'dntotal']\n",
    "\n",
    "# Iterate over each unique code\n",
    "for code in tqdm(catchments_unique_reprojected.index):\n",
    "    # Initialize an empty DataFrame to store the results for the current code\n",
    "    code_df = pd.DataFrame()\n",
    "\n",
    "    for compound in compounds:\n",
    "        # Initialize a DataFrame for the current compound\n",
    "        compound_data = []\n",
    "        compound_df = pd.DataFrame()\n",
    "\n",
    "        i = 0\n",
    "        filenames = file_groups[compound]\n",
    "\n",
    "        for filename in filenames:\n",
    "            # Create lists to store the results\n",
    "            avg_values = []\n",
    "\n",
    "            # Load your raster file\n",
    "            with rasterio.open(path_data+\"\\\\\"+ filename) as src:\n",
    "                geom = catchments_unique_reprojected.loc[[code]]\n",
    "\n",
    "                # Check if the geometry is empty or invalid\n",
    "                geometry = geom['geometry'].iloc[0]\n",
    "\n",
    "                if geometry is None or geometry.is_empty or not geometry.is_valid:\n",
    "                    avg_value = np.nan\n",
    "                else:\n",
    "                    \n",
    "                    # Convert geometry to GeoJSON-like dict for rasterio\n",
    "                    geom_mapping = [mapping(geometry)]\n",
    "                    \n",
    "                    # Create a mask for the geometry\n",
    "                    mask = geometry_mask(geom_mapping, out_shape=src.shape, transform=src.transform, invert=True)\n",
    "\n",
    "                    # Read the values within the geometry from the raster\n",
    "                    values = src.read(1, masked=True)\n",
    "                    values = values[mask]\n",
    "\n",
    "                # Calculate statistics only if there are valid values in the 'values' array\n",
    "                if len(values) > 0:\n",
    "                    avg_value = np.sum(values)\n",
    "                else:\n",
    "                    # Handle the case when there are no valid values\n",
    "                    avg_value = np.nan\n",
    "\n",
    "                # Append the result for the current year (prefix)\n",
    "                compound_data.append(avg_value)\n",
    "\n",
    "            i += 1\n",
    "\n",
    "        # Add the compound data as a column to the code DataFrame\n",
    "        code_df[compound] = compound_data\n",
    "\n",
    "    # Add year prefixes as the index\n",
    "    code_df.index = [prefix[:-1] for prefix in prefix_values]\n",
    "\n",
    "    \n",
    "    code_df.index = code_df.index.astype(int)\n",
    "\n",
    "    # Generate a full range of years from 1980 to 2019\n",
    "    full_range = pd.DataFrame(index=range(1990, 2021))\n",
    "\n",
    "    # Reindex the dataframe to include all years\n",
    "    code_df_interpolated = code_df.reindex(full_range.index)\n",
    "\n",
    "    # Interpolate missing values\n",
    "    code_df_interpolated = code_df_interpolated.interpolate(method='linear')\n",
    "\n",
    "\n",
    "    code_df_interpolated = code_df_interpolated.round(4)\n",
    "    code_df_interpolated.index.name = \"date\"\n",
    "\n",
    "    code_df_interpolated.to_csv(PATH_OUTPUT + \"/camels_ch_chem_atmdepo_\"+str(code)+\".csv\", encoding='latin')"
   ]
  },
  {
   "cell_type": "markdown",
   "id": "b608e26e",
   "metadata": {},
   "source": [
    "# End"
   ]
  }
 ],
 "metadata": {
  "kernelspec": {
   "display_name": "Python 3",
   "language": "python",
   "name": "python3"
  },
  "language_info": {
   "codemirror_mode": {
    "name": "ipython",
    "version": 3
   },
   "file_extension": ".py",
   "mimetype": "text/x-python",
   "name": "python",
   "nbconvert_exporter": "python",
   "pygments_lexer": "ipython3",
   "version": "3.9.18"
  }
 },
 "nbformat": 4,
 "nbformat_minor": 5
}
