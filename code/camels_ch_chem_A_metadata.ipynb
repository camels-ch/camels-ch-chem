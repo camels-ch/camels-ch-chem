{
 "cells": [
  {
   "cell_type": "markdown",
   "id": "46e94d6f",
   "metadata": {},
   "source": [
    "# Metadata\n",
    "\n",
    "Author: Thiago Nascimento (thiago.nascimento@eawag.ch)\n",
    "\n",
    "This notebook is used to derive all needed metadata for CAMELS-CH-Chem.\n",
    "\n",
    "## Requirements\n",
    "**Python:**\n",
    "\n",
    "* Python>=3.6\n",
    "* Jupyter\n",
    "* geopandas=0.10.2\n",
    "* numpy\n",
    "* os\n",
    "* pandas=2.1.3\n",
    "* tqdm\n",
    "\n",
    "Check the Github repository for an environment.yml (for conda environments) or requirements.txt (pip) file.\n",
    "\n",
    "**Files:**\n",
    "\n",
    "* All original files. \n",
    "\n",
    "\n",
    "**Directory:**\n",
    "\n",
    "* Clone the GitHub directory locally\n",
    "* Place any third-data variables in their respective directory.\n",
    "* ONLY update the \"PATH\" variable in the section \"Configurations\", with their relative path to the EStreams directory. \n",
    "\n",
    "\n",
    "## References\n",
    "* \n",
    "## Observations\n",
    "* None"
   ]
  },
  {
   "cell_type": "markdown",
   "id": "1f7648ab",
   "metadata": {},
   "source": [
    "# Import modules"
   ]
  },
  {
   "cell_type": "code",
   "execution_count": null,
   "id": "04f6e053",
   "metadata": {},
   "outputs": [],
   "source": [
    "import pandas as pd\n",
    "import numpy as np\n",
    "import tqdm as tqdm\n",
    "import os\n",
    "import glob\n",
    "import warnings\n",
    "import geopandas as gpd\n",
    "import os\n",
    "from pathlib import Path"
   ]
  },
  {
   "cell_type": "markdown",
   "id": "134a0050",
   "metadata": {},
   "source": [
    "# Configurations"
   ]
  },
  {
   "cell_type": "code",
   "execution_count": null,
   "id": "ec3eb41f",
   "metadata": {},
   "outputs": [],
   "source": [
    "# Only editable variables:\n",
    "# Relative path to your local directory\n",
    "PATH = \"../..\"\n",
    "\n",
    "# Suppress all warnings\n",
    "warnings.filterwarnings(\"ignore\")\n",
    "\n",
    "# Path to where the data are stored\n",
    "path_data = r\"C:\\Users\\nascimth\\Documents\\data\\CAMELS_CH_Chem\\data\"\n",
    "path_isot = Path(r\"C:\\Users\\nascimth\\Documents\\data\\CAMELS_CH_Chem\\data\\CH_IRP\\isotopes_streamflow\\isotopes_streamflow\\\\\")\n"
   ]
  },
  {
   "cell_type": "markdown",
   "id": "0b0c1c1e",
   "metadata": {},
   "source": [
    "* #### The users should NOT change anything in the code below here. "
   ]
  },
  {
   "cell_type": "code",
   "execution_count": null,
   "id": "9d25b417",
   "metadata": {},
   "outputs": [],
   "source": [
    "# Non-editable variables:\n",
    "# Set the directory:\n",
    "os.chdir(PATH)"
   ]
  },
  {
   "cell_type": "markdown",
   "id": "8b54907f",
   "metadata": {},
   "source": [
    "# Import data"
   ]
  },
  {
   "cell_type": "code",
   "execution_count": null,
   "id": "78c6d303",
   "metadata": {},
   "outputs": [],
   "source": [
    "# Network CAMELS_CH_Chem\n",
    "network_camels_ch_chem = pd.read_excel(path_data+\"/CAMELS_CH_chem_stations_short_v3.xlsx\", sheet_name='all_5')\n",
    "#network_camels_ch_chem.set_index(\"basin_id\", inplace=True)\n",
    "network_camels_ch_chem.columns"
   ]
  },
  {
   "cell_type": "code",
   "execution_count": null,
   "id": "68a4f1c5",
   "metadata": {},
   "outputs": [],
   "source": [
    "# Network CAMELS-CH\n",
    "network_camels_ch = pd.read_csv(path_data+\"/CAMELS_CH_topographic_attributes.csv\", skiprows=1, encoding='latin-1', sep= \";\")\n",
    "network_camels_ch.set_index(\"gauge_id\", inplace=True)\n",
    "network_camels_ch"
   ]
  },
  {
   "cell_type": "code",
   "execution_count": null,
   "id": "8b408adc",
   "metadata": {},
   "outputs": [],
   "source": [
    "# Network CAMELS_CH_Chem (with Q weighting)\n",
    "network_camels_ch_chem_withq = pd.read_excel(path_data+\"/CAMELS_CH_chem_stations_short_v3.xlsx\", sheet_name='all_3')\n",
    "network_camels_ch_chem_withq.set_index(\"hydro_id\", inplace=True)\n",
    "network_camels_ch_chem_withq.columns"
   ]
  },
  {
   "cell_type": "code",
   "execution_count": null,
   "id": "4e5cb147",
   "metadata": {},
   "outputs": [],
   "source": [
    "network_camels_ch_chem[[\"area_camels\", \"area_bafu\"]]"
   ]
  },
  {
   "cell_type": "code",
   "execution_count": null,
   "id": "11185356",
   "metadata": {},
   "outputs": [],
   "source": [
    "# Load the world shapefile dataset provided by GeoPandas\n",
    "gdf = gpd.read_file(gpd.datasets.get_path('naturalearth_lowres'))"
   ]
  },
  {
   "cell_type": "code",
   "execution_count": null,
   "id": "1877dd68",
   "metadata": {},
   "outputs": [],
   "source": [
    "# Read the shapefile of Switzerland\n",
    "shapefiles_gve = gpd.read_file(path_data+'\\shapefile_gve\\GVE_Catchments.shp')\n",
    "shapefiles_gve"
   ]
  },
  {
   "cell_type": "code",
   "execution_count": null,
   "id": "014582d7",
   "metadata": {},
   "outputs": [],
   "source": [
    "# Read the shapefile of Switzerland\n",
    "countries = gpd.read_file(path_data+'\\shps\\countries.shp')\n",
    "countries"
   ]
  },
  {
   "cell_type": "code",
   "execution_count": null,
   "id": "01a0db48",
   "metadata": {},
   "outputs": [],
   "source": [
    "# Read the shapefile of Switzerland\n",
    "ch_shapefile = gpd.read_file(path_data+'\\shps\\switzerland.shp')\n",
    "ch_shapefile"
   ]
  },
  {
   "cell_type": "code",
   "execution_count": null,
   "id": "d8ede80d",
   "metadata": {},
   "outputs": [],
   "source": [
    "network_camels_ch_chem.columns"
   ]
  },
  {
   "cell_type": "code",
   "execution_count": null,
   "id": "2c796294",
   "metadata": {},
   "outputs": [],
   "source": [
    "network_camels_ch_chem.columns = ['gauge_id', 'sensor_id', 'nawaf_id', 'nawat_id', 'isot_id',\n",
    "       'gauge_name', 'water_body_name', 'gauge_easting', 'gauge_northing', 'area',\n",
    "       'area_bafu', 'Q', 'level', 'remarks', 'temperature', 'pH',\n",
    "       'conductivity', 'oxygen concentration', ' hydrogen-2', 'oxygen-18',\n",
    "       'gauge_name_nawaf', 'gauge_easting_nawaf', 'gauge_northing_nawaf', 'area_nawaf',\n",
    "       'foen_nawaf_dist', 'gauge_name_nawat', 'gauge_easting_nawat', 'gauge_northing_nawat',\n",
    "       'area_nawat', 'foen_nawat_dist', 'remarks.1']"
   ]
  },
  {
   "cell_type": "code",
   "execution_count": null,
   "id": "1674c9e4",
   "metadata": {},
   "outputs": [],
   "source": [
    "network_camels_ch_chem = network_camels_ch_chem.loc[:, ['gauge_id', 'sensor_id', 'nawaf_id', 'nawat_id', 'isot_id',\n",
    "       'gauge_name', 'water_body_name', 'gauge_easting', 'gauge_northing', 'area',\n",
    "        'Q', 'level', 'remarks', \n",
    "       'gauge_name_nawaf', 'gauge_easting_nawaf', 'gauge_northing_nawaf', 'area_nawaf',\n",
    "       'foen_nawaf_dist', 'gauge_name_nawat', 'gauge_easting_nawat', 'gauge_northing_nawat',\n",
    "       'area_nawat', 'foen_nawat_dist', 'remarks.1']]\n",
    "network_camels_ch_chem"
   ]
  },
  {
   "cell_type": "code",
   "execution_count": null,
   "id": "a08520de",
   "metadata": {},
   "outputs": [],
   "source": [
    "# Merge the columns\n",
    "network_camels_ch_chem['remarks'] = network_camels_ch_chem['remarks'].fillna(network_camels_ch_chem['remarks.1'])\n",
    "\n",
    "# Drop the original columns if no longer needed\n",
    "network_camels_ch_chem.drop(columns=['remarks.1'], inplace=True)\n",
    "\n",
    "network_camels_ch_chem"
   ]
  },
  {
   "cell_type": "code",
   "execution_count": null,
   "id": "577ade80",
   "metadata": {},
   "outputs": [],
   "source": [
    "network_camels_ch_chem = network_camels_ch_chem[['gauge_id', 'sensor_id', 'nawaf_id', 'nawat_id', 'isot_id',\n",
    "       'gauge_name', 'water_body_name', 'gauge_easting', 'gauge_northing',\n",
    "       'area', 'Q', 'level', 'gauge_name_nawaf',\n",
    "       'gauge_easting_nawaf', 'gauge_northing_nawaf', 'area_nawaf',\n",
    "       'foen_nawaf_dist', 'gauge_name_nawat', 'gauge_easting_nawat',\n",
    "       'gauge_northing_nawat', 'area_nawat', 'foen_nawat_dist','remarks']]\n",
    "\n",
    "\n",
    "network_camels_ch_chem.set_index(\"gauge_id\", inplace=True)"
   ]
  },
  {
   "cell_type": "code",
   "execution_count": null,
   "id": "d7c8ef16",
   "metadata": {},
   "outputs": [],
   "source": [
    "# Gauge lat and lon\n",
    "network_camels_ch_chem['gauge_lon'] = network_camels_ch['gauge_lon'] \n",
    "network_camels_ch_chem['gauge_lat'] = network_camels_ch['gauge_lat']\n",
    "\n",
    "\n",
    "# Q corrector factor nawa_trend\n",
    "network_camels_ch_chem[\"q_nawat_corrector\"] = network_camels_ch_chem_withq[\"Q_weighting (catchment areas from CAMELS_CH)\"]\n",
    "\n",
    "# Plot to check it\n",
    "network_camels_ch_chem"
   ]
  },
  {
   "cell_type": "code",
   "execution_count": null,
   "id": "6ce31c95",
   "metadata": {},
   "outputs": [],
   "source": [
    "network_camels_ch_chem_withq.columns"
   ]
  },
  {
   "cell_type": "code",
   "execution_count": null,
   "id": "5daccaf5",
   "metadata": {},
   "outputs": [],
   "source": [
    "network_camels_ch_chem = network_camels_ch_chem[['sensor_id', 'nawaf_id', 'nawat_id', 'isot_id',\n",
    "       'gauge_name', 'water_body_name', 'gauge_easting', 'gauge_northing', \"gauge_lon\", \"gauge_lat\",\n",
    "       'area', 'Q', 'level', 'gauge_name_nawaf',\n",
    "       'gauge_easting_nawaf', 'gauge_northing_nawaf', 'area_nawaf',\n",
    "       'foen_nawaf_dist', 'gauge_name_nawat', 'gauge_easting_nawat',\n",
    "       'gauge_northing_nawat', 'area_nawat', 'foen_nawat_dist', 'q_nawat_corrector', 'remarks']]\n",
    "\n",
    "network_camels_ch_chem"
   ]
  },
  {
   "cell_type": "markdown",
   "id": "3b97ee5b",
   "metadata": {},
   "source": [
    "### Add the infromation about CH-IRP gauges"
   ]
  },
  {
   "cell_type": "code",
   "execution_count": null,
   "id": "3ad3b502",
   "metadata": {},
   "outputs": [],
   "source": [
    "gauge_ids_list = [f.stem for f in path_isot.glob(\"*.isoStrm\") if f.stem.isdigit()]\n",
    "gauge_ids_list = list(map(int, gauge_ids_list))  # Convert to integers if your index is int\n",
    "gauge_series = pd.Series(gauge_ids_list, index=gauge_ids_list)\n",
    "network_camels_ch_chem[\"chirp_id\"] = network_camels_ch_chem.index.map(gauge_series)"
   ]
  },
  {
   "cell_type": "code",
   "execution_count": null,
   "id": "97a2a836",
   "metadata": {},
   "outputs": [],
   "source": [
    "network_camels_ch_chem[~network_camels_ch_chem.index.map(gauge_series).isna()]"
   ]
  },
  {
   "cell_type": "code",
   "execution_count": null,
   "id": "12d93c9c",
   "metadata": {},
   "outputs": [],
   "source": [
    "gauge_ids_list"
   ]
  },
  {
   "cell_type": "code",
   "execution_count": null,
   "id": "d3f4f3d1",
   "metadata": {},
   "outputs": [],
   "source": [
    "# Not included in this version of CAMELS-CH-Chem\n",
    "2319, 2409, 2491"
   ]
  },
  {
   "cell_type": "code",
   "execution_count": null,
   "id": "0485c5a6",
   "metadata": {},
   "outputs": [],
   "source": [
    "network_camels_ch_chem = network_camels_ch_chem[['sensor_id', 'nawaf_id', 'nawat_id', 'isot_id', 'chirp_id',\n",
    "       'gauge_name', 'water_body_name', 'gauge_easting', 'gauge_northing', \"gauge_lon\", \"gauge_lat\",\n",
    "       'area', 'Q', 'level', 'gauge_name_nawaf',\n",
    "       'gauge_easting_nawaf', 'gauge_northing_nawaf', 'area_nawaf',\n",
    "       'foen_nawaf_dist', 'gauge_name_nawat', 'gauge_easting_nawat',\n",
    "       'gauge_northing_nawat', 'area_nawat', 'foen_nawat_dist', 'q_nawat_corrector', 'remarks']]\n",
    "\n",
    "network_camels_ch_chem"
   ]
  },
  {
   "cell_type": "code",
   "execution_count": null,
   "id": "6e301791",
   "metadata": {},
   "outputs": [],
   "source": [
    "network_camels_ch_chem.to_csv(r\"results\\Dataset\\gauges_metadata\\camels_ch_chem_gauges_metadata.csv\", encoding='utf-8')"
   ]
  },
  {
   "cell_type": "markdown",
   "id": "67066b18",
   "metadata": {},
   "source": [
    "## Adjust the shapefile"
   ]
  },
  {
   "cell_type": "code",
   "execution_count": null,
   "id": "b95c7749",
   "metadata": {},
   "outputs": [],
   "source": [
    "CAMELS_CH_catchments = gpd.read_file(path_data+'/shps/CAMELS_CH_catchments.shp') # From the original CAMELS-CH dataset\n",
    "CAMELS_CH_catchments"
   ]
  },
  {
   "cell_type": "code",
   "execution_count": null,
   "id": "28f1f867",
   "metadata": {},
   "outputs": [],
   "source": [
    "CAMELS_CH_Chem_catchments = CAMELS_CH_catchments[CAMELS_CH_catchments['gauge_id'].astype(int).isin(network_camels_ch_chem.index.tolist())]\n",
    "CAMELS_CH_Chem_catchments.index = network_camels_ch_chem.index\n",
    "CAMELS_CH_Chem_catchments[\"sensor_id\"] = network_camels_ch_chem[\"sensor_id\"]\n",
    "CAMELS_CH_Chem_catchments[\"nawaf_id\"] = network_camels_ch_chem[\"nawaf_id\"]\n",
    "CAMELS_CH_Chem_catchments[\"nawat_id\"] = network_camels_ch_chem[\"nawat_id\"]\n",
    "CAMELS_CH_Chem_catchments[\"isot_id\"] = network_camels_ch_chem[\"isot_id\"]\n",
    "CAMELS_CH_Chem_catchments[\"chirp_id\"] = network_camels_ch_chem[\"chirp_id\"]\n",
    "CAMELS_CH_Chem_catchments[\"gauge_name\"] = network_camels_ch_chem[\"gauge_name\"]\n",
    "CAMELS_CH_Chem_catchments[\"water_body_name\"] = network_camels_ch_chem[\"water_body_name\"]\n",
    "CAMELS_CH_Chem_catchments[\"gauge_easting\"] = network_camels_ch_chem[\"gauge_easting\"]\n",
    "CAMELS_CH_Chem_catchments[\"gauge_northing\"] = network_camels_ch_chem[\"gauge_northing\"]\n",
    "CAMELS_CH_Chem_catchments[\"gauge_lon\"] = network_camels_ch_chem[\"gauge_lon\"]\n",
    "CAMELS_CH_Chem_catchments[\"gauge_lat\"] = network_camels_ch_chem[\"gauge_lat\"]\n",
    "CAMELS_CH_Chem_catchments[\"area\"] = network_camels_ch_chem[\"area\"]\n",
    "\n",
    "CAMELS_CH_Chem_catchments = CAMELS_CH_Chem_catchments[[\"sensor_id\", \"nawaf_id\", \"nawat_id\", \"isot_id\", \"chirp_id\",\n",
    "                                                       \"gauge_name\", \"water_body_name\", \n",
    "                                                       \"gauge_easting\", \"gauge_northing\", \"gauge_lon\",\n",
    "                                                       \"gauge_lat\", \"area\", \"geometry\"\n",
    "                                                       ]]"
   ]
  },
  {
   "cell_type": "markdown",
   "id": "1d046e3d",
   "metadata": {},
   "source": [
    "## Compute the area outside Switzerland"
   ]
  },
  {
   "cell_type": "code",
   "execution_count": null,
   "id": "21788838",
   "metadata": {},
   "outputs": [],
   "source": [
    "# Load the Switzerland boundary\n",
    "world = gpd.read_file(gpd.datasets.get_path('naturalearth_lowres'))\n",
    "switzerland = world[world.name == \"Switzerland\"]\n",
    "\n",
    "# Define the Swiss projected CRS (LV95)\n",
    "swiss_crs = \"EPSG:2056\"\n",
    "\n",
    "# Reproject both datasets to the Swiss CRS\n",
    "switzerland = switzerland.to_crs(swiss_crs)\n",
    "catchment_camels = CAMELS_CH_Chem_catchments.to_crs(swiss_crs)\n",
    "\n",
    "# Function to calculate percentage of each catchment inside Switzerland\n",
    "def compute_percentage_inside(row):\n",
    "    catchment_geom = row.geometry  # Get individual catchment geometry\n",
    "    intersection = catchment_geom.intersection(switzerland.geometry.iloc[0])  # Clip to Switzerland\n",
    "    if intersection.is_empty:\n",
    "        return 0  # If no intersection, 0% inside\n",
    "    return (intersection.area / catchment_geom.area) * 100  # Compute percentage\n",
    "\n",
    "# Apply function to each row in the dataframe\n",
    "catchment_camels[\"percentage_inside_Switzerland\"] = catchment_camels.apply(compute_percentage_inside, axis=1)"
   ]
  },
  {
   "cell_type": "code",
   "execution_count": null,
   "id": "b9dc3405",
   "metadata": {},
   "outputs": [],
   "source": [
    "CAMELS_CH_Chem_catchments"
   ]
  },
  {
   "cell_type": "code",
   "execution_count": null,
   "id": "654d0509",
   "metadata": {},
   "outputs": [],
   "source": [
    "network_camels_ch_chem[\"area_swiss_perc\"] = catchment_camels.percentage_inside_Switzerland\n",
    "CAMELS_CH_Chem_catchments[\"area_swiss_perc\"] = catchment_camels.percentage_inside_Switzerland\n",
    "\n",
    "network_camels_ch_chem = network_camels_ch_chem[['sensor_id', 'nawaf_id', 'nawat_id', 'isot_id', 'chirp_id', 'gauge_name',\n",
    "       'water_body_name', 'gauge_easting', 'gauge_northing', 'gauge_lon',\n",
    "       'gauge_lat', 'area', 'area_swiss_perc', 'Q', 'level', 'gauge_name_nawaf',\n",
    "       'gauge_easting_nawaf', 'gauge_northing_nawaf', 'area_nawaf',\n",
    "       'foen_nawaf_dist', 'gauge_name_nawat', 'gauge_easting_nawat',\n",
    "       'gauge_northing_nawat', 'area_nawat', 'foen_nawat_dist',\n",
    "       'q_nawat_corrector', 'remarks']]\n",
    "\n",
    "CAMELS_CH_Chem_catchments = CAMELS_CH_Chem_catchments[['sensor_id', 'nawaf_id', 'nawat_id', 'isot_id', 'chirp_id', 'gauge_name',\n",
    "       'water_body_name', 'gauge_easting', 'gauge_northing', 'gauge_lon',\n",
    "       'gauge_lat', 'area', 'area_swiss_perc', 'geometry']]\n",
    "\n",
    "network_camels_ch_chem.to_csv(r\"results\\Dataset\\gauges_metadata\\camels_ch_chem_gauges_metadata.csv\", encoding='utf-8')\n",
    "CAMELS_CH_Chem_catchments.to_file(\"results\\Dataset\\shapefiles\\camels_ch_del\\camels_ch_chem_catchment_boundaries.shp\")"
   ]
  },
  {
   "cell_type": "markdown",
   "id": "7e48b256",
   "metadata": {},
   "source": [
    "## Different catchment boundaries"
   ]
  },
  {
   "cell_type": "code",
   "execution_count": null,
   "id": "ce28e9ea",
   "metadata": {},
   "outputs": [],
   "source": [
    "camels_ch_chem_catchment_boundaries = gpd.read_file(r\"results\\Dataset\\shapefiles\\camels_ch_del\\camels_ch_chem_catchment_boundaries.shp\")\n",
    "camels_ch_chem_catchment_boundaries.set_index(\"gauge_id\", inplace = True) \n",
    "camels_ch_chem_catchment_boundaries"
   ]
  },
  {
   "cell_type": "markdown",
   "id": "0190d3c9",
   "metadata": {},
   "source": [
    "- NAWA FRACHT"
   ]
  },
  {
   "cell_type": "code",
   "execution_count": null,
   "id": "0a4f0350",
   "metadata": {},
   "outputs": [],
   "source": [
    "Chem_naduf_EZG_1 = gpd.read_file(path_data+r\"\\shps\\Chem_naduf_EZG_1.shp\")\n",
    "\n",
    "camels_ch_chem_catchment_boundaries_nawaf = Chem_naduf_EZG_1.copy()\n",
    "camels_ch_chem_catchment_boundaries_nawaf.set_index(\"gauge_id\", inplace = True)\n",
    "\n",
    "camels_ch_chem_catchment_boundaries_nawaf['sensor_id'] = camels_ch_chem_catchment_boundaries['sensor_id']\n",
    "camels_ch_chem_catchment_boundaries_nawaf['nawaf_id'] = camels_ch_chem_catchment_boundaries['nawaf_id']\n",
    "camels_ch_chem_catchment_boundaries_nawaf['nawat_id'] = camels_ch_chem_catchment_boundaries['nawat_id']\n",
    "camels_ch_chem_catchment_boundaries_nawaf['gauge_name'] = camels_ch_chem_catchment_boundaries['gauge_name']\n",
    "camels_ch_chem_catchment_boundaries_nawaf['water_body'] = camels_ch_chem_catchment_boundaries['water_body']\n",
    "camels_ch_chem_catchment_boundaries_nawaf['gauge_east'] = camels_ch_chem_catchment_boundaries['gauge_east']\n",
    "camels_ch_chem_catchment_boundaries_nawaf['gauge_nort'] = camels_ch_chem_catchment_boundaries['gauge_nort']\n",
    "camels_ch_chem_catchment_boundaries_nawaf['gauge_lon'] = camels_ch_chem_catchment_boundaries['gauge_lon']\n",
    "camels_ch_chem_catchment_boundaries_nawaf['gauge_lat'] = camels_ch_chem_catchment_boundaries['gauge_lat']\n",
    "camels_ch_chem_catchment_boundaries_nawaf['area'] = camels_ch_chem_catchment_boundaries['area']\n",
    "camels_ch_chem_catchment_boundaries_nawaf['area_swiss'] = camels_ch_chem_catchment_boundaries['area_swiss']\n",
    "\n",
    "camels_ch_chem_catchment_boundaries_nawaf = camels_ch_chem_catchment_boundaries_nawaf[['sensor_id', 'nawaf_id', 'nawat_id', 'gauge_name',\n",
    "       'water_body', 'gauge_east', 'gauge_nort', 'gauge_lon',\n",
    "       'gauge_lat', 'area', 'area_swiss', 'geometry']]"
   ]
  },
  {
   "cell_type": "code",
   "execution_count": null,
   "id": "a85ec68c",
   "metadata": {},
   "outputs": [],
   "source": [
    "# First, get the valid indices where nawaf_id is not NaN\n",
    "valid_indices = camels_ch_chem_catchment_boundaries[~camels_ch_chem_catchment_boundaries.nawaf_id.isna()].index\n",
    "\n",
    "# Exclude index 2243 if it's present\n",
    "valid_indices = valid_indices.difference([2243])\n",
    "\n",
    "# Subset the target DataFrame\n",
    "camels_ch_chem_catchment_boundaries_nawaf = camels_ch_chem_catchment_boundaries_nawaf.loc[valid_indices]"
   ]
  },
  {
   "cell_type": "code",
   "execution_count": null,
   "id": "e5bb8020",
   "metadata": {},
   "outputs": [],
   "source": [
    "camels_ch_chem_catchment_boundaries"
   ]
  },
  {
   "cell_type": "code",
   "execution_count": null,
   "id": "cc94dfd3",
   "metadata": {},
   "outputs": [],
   "source": [
    "camels_ch_chem_catchment_boundaries_nawaf.loc[2243] = camels_ch_chem_catchment_boundaries.loc[2243]\n",
    "\n",
    "camels_ch_chem_catchment_boundaries_nawaf"
   ]
  },
  {
   "cell_type": "code",
   "execution_count": null,
   "id": "1708a54b",
   "metadata": {},
   "outputs": [],
   "source": [
    "camels_ch_chem_catchment_boundaries_nawaf.to_file(\"results\\\\Dataset\\shapefiles\\\\nawa_fracht_del\\\\camels_ch_chem_catchment_boundaries_nawaf.shp\")"
   ]
  },
  {
   "cell_type": "markdown",
   "id": "555a6e34",
   "metadata": {},
   "source": [
    "## NAWA TREND catchment boundaries"
   ]
  },
  {
   "cell_type": "code",
   "execution_count": null,
   "id": "c7a88cc0",
   "metadata": {},
   "outputs": [],
   "source": [
    "Chem_nawa_EZG_1 = gpd.read_file(path_data+r\"\\shps\\Chem_nawa_EZG_1.shp\")\n",
    "\n",
    "camels_ch_chem_catchment_boundaries_nawat = Chem_nawa_EZG_1.copy()\n",
    "camels_ch_chem_catchment_boundaries_nawat.set_index(\"gauge_id\", inplace = True)\n",
    "\n",
    "camels_ch_chem_catchment_boundaries_nawat['sensor_id'] = camels_ch_chem_catchment_boundaries['sensor_id']\n",
    "camels_ch_chem_catchment_boundaries_nawat['nawaf_id'] = camels_ch_chem_catchment_boundaries['nawaf_id']\n",
    "camels_ch_chem_catchment_boundaries_nawat['nawat_id'] = camels_ch_chem_catchment_boundaries['nawat_id']\n",
    "camels_ch_chem_catchment_boundaries_nawat['gauge_name'] = camels_ch_chem_catchment_boundaries['gauge_name']\n",
    "camels_ch_chem_catchment_boundaries_nawat['water_body'] = camels_ch_chem_catchment_boundaries['water_body']\n",
    "camels_ch_chem_catchment_boundaries_nawat['gauge_east'] = camels_ch_chem_catchment_boundaries['gauge_east']\n",
    "camels_ch_chem_catchment_boundaries_nawat['gauge_nort'] = camels_ch_chem_catchment_boundaries['gauge_nort']\n",
    "camels_ch_chem_catchment_boundaries_nawat['gauge_lon'] = camels_ch_chem_catchment_boundaries['gauge_lon']\n",
    "camels_ch_chem_catchment_boundaries_nawat['gauge_lat'] = camels_ch_chem_catchment_boundaries['gauge_lat']\n",
    "camels_ch_chem_catchment_boundaries_nawat['area'] = camels_ch_chem_catchment_boundaries['area']\n",
    "camels_ch_chem_catchment_boundaries_nawat['area_swiss'] = camels_ch_chem_catchment_boundaries['area_swiss']\n",
    "\n",
    "camels_ch_chem_catchment_boundaries_nawat = camels_ch_chem_catchment_boundaries_nawat[['sensor_id', 'nawaf_id', 'nawat_id', 'gauge_name',\n",
    "       'water_body', 'gauge_east', 'gauge_nort', 'gauge_lon',\n",
    "       'gauge_lat', 'area', 'area_swiss', 'geometry']]"
   ]
  },
  {
   "cell_type": "code",
   "execution_count": null,
   "id": "3ae8f2dc",
   "metadata": {},
   "outputs": [],
   "source": [
    "# First, get the valid indices where nawaf_id is not NaN\n",
    "valid_indices = camels_ch_chem_catchment_boundaries[~camels_ch_chem_catchment_boundaries.nawat_id.isna()].index\n",
    "\n",
    "valid_indices = valid_indices.difference([2215])\n",
    "valid_indices = valid_indices.difference([2634])\n",
    "\n",
    "# Subset the target DataFrame\n",
    "camels_ch_chem_catchment_boundaries_nawat = camels_ch_chem_catchment_boundaries_nawat.loc[valid_indices]"
   ]
  },
  {
   "cell_type": "code",
   "execution_count": null,
   "id": "b0c8cafc",
   "metadata": {},
   "outputs": [],
   "source": [
    "camels_ch_chem_catchment_boundaries_nawat.loc[2215] = camels_ch_chem_catchment_boundaries.loc[2215]\n",
    "camels_ch_chem_catchment_boundaries_nawat.loc[2634] = camels_ch_chem_catchment_boundaries.loc[2634]\n",
    "\n",
    "camels_ch_chem_catchment_boundaries_nawat"
   ]
  },
  {
   "cell_type": "code",
   "execution_count": null,
   "id": "fdf60605",
   "metadata": {},
   "outputs": [],
   "source": [
    "camels_ch_chem_catchment_boundaries_nawat.to_file(\"results\\\\Dataset\\shapefiles\\\\nawa_trend_del\\\\camels_ch_chem_catchment_boundaries_nawat.shp\")"
   ]
  },
  {
   "cell_type": "markdown",
   "id": "626196a5",
   "metadata": {},
   "source": [
    "## Adjust the coordinates"
   ]
  },
  {
   "cell_type": "code",
   "execution_count": null,
   "id": "63562aa9",
   "metadata": {},
   "outputs": [],
   "source": [
    "# Network CAMELS-CH\n",
    "network_camels_ch_chem = pd.read_csv(r\"results\\Dataset\\gauges_metadata\\camels_ch_chem_gauges_metadata.csv\", encoding='utf-8', sep= \",\")\n",
    "network_camels_ch_chem.set_index(\"gauge_id\", inplace=True)\n",
    "network_camels_ch_chem"
   ]
  },
  {
   "cell_type": "code",
   "execution_count": null,
   "id": "86d78b1e",
   "metadata": {},
   "outputs": [],
   "source": [
    "# List the specific columns you want to modify\n",
    "columns_to_modify = [\n",
    "    \"gauge_easting\",\n",
    "    \"gauge_easting_nawat\",\n",
    "    \"gauge_easting_nawaf\"\n",
    "]\n",
    "\n",
    "# Apply the transformation: prepend 2 while keeping it float\n",
    "for col in columns_to_modify:\n",
    "    network_camels_ch_chem[col] = network_camels_ch_chem[col].apply(lambda x: int(f\"2{x:.0f}\") if pd.notnull(x) else x)\n",
    "\n",
    "network_camels_ch_chem"
   ]
  },
  {
   "cell_type": "code",
   "execution_count": null,
   "id": "28f6dd0e",
   "metadata": {},
   "outputs": [],
   "source": [
    "# List the specific columns you want to modify\n",
    "columns_to_modify = [\n",
    "    \"gauge_northing\",\n",
    "    \"gauge_northing_nawat\",\n",
    "    \"gauge_northing_nawaf\"\n",
    "]\n",
    "\n",
    "# Apply the transformation: prepend 2 while keeping it float\n",
    "for col in columns_to_modify:\n",
    "    network_camels_ch_chem[col] = network_camels_ch_chem[col].apply(lambda x: int(f\"1{x:.0f}\") if pd.notnull(x) else x)\n",
    "\n",
    "network_camels_ch_chem"
   ]
  },
  {
   "cell_type": "markdown",
   "id": "a91561de",
   "metadata": {},
   "source": [
    "It seems that it remains with the error for this station 2167"
   ]
  },
  {
   "cell_type": "code",
   "execution_count": null,
   "id": "b6d01479",
   "metadata": {},
   "outputs": [],
   "source": [
    "network_camels_ch_chem.loc[[2167]]"
   ]
  },
  {
   "cell_type": "code",
   "execution_count": null,
   "id": "b4938d04",
   "metadata": {},
   "outputs": [],
   "source": [
    "network_camels_ch_chem.loc[[2167]][\"gauge_northing\"]"
   ]
  },
  {
   "cell_type": "code",
   "execution_count": null,
   "id": "ecc90529",
   "metadata": {},
   "outputs": [],
   "source": [
    "network_camels_ch_chem.loc[[2167], \"gauge_northing\"]=1192145\n",
    "network_camels_ch_chem.loc[[2167]][\"gauge_northing\"]"
   ]
  },
  {
   "cell_type": "code",
   "execution_count": null,
   "id": "37cc922f",
   "metadata": {},
   "outputs": [],
   "source": [
    "network_camels_ch_chem.loc[[2167], \"gauge_northing_nawat\"]=1192145\n",
    "network_camels_ch_chem.loc[[2167]][\"gauge_northing_nawat\"]"
   ]
  },
  {
   "cell_type": "code",
   "execution_count": null,
   "id": "ffe40253",
   "metadata": {},
   "outputs": [],
   "source": [
    "network_camels_ch_chem.loc[[2167]]"
   ]
  },
  {
   "cell_type": "code",
   "execution_count": null,
   "id": "01591823",
   "metadata": {},
   "outputs": [],
   "source": [
    "network_camels_ch_chem.to_csv(r\"results\\Dataset\\gauges_metadata\\camels_ch_chem_gauges_metadata.csv\", encoding='utf-8')"
   ]
  },
  {
   "cell_type": "markdown",
   "id": "01e34001",
   "metadata": {},
   "source": [
    "## Adjust the coordinates for the shapefiles"
   ]
  },
  {
   "cell_type": "code",
   "execution_count": null,
   "id": "dfc4f257",
   "metadata": {},
   "outputs": [],
   "source": [
    "camels_ch_chem_catchment_boundaries = gpd.read_file(\"results\\Dataset\\shapefiles\\camels_ch_del\\camels_ch_chem_catchment_boundaries.shp\")\n",
    "camels_ch_chem_catchment_boundaries.set_index(\"gauge_id\", inplace=True)\n",
    "camels_ch_chem_catchment_boundaries[[\"gauge_east\", \"gauge_nort\"]] = network_camels_ch_chem[[\"gauge_easting\", \"gauge_northing\"]]\n",
    "\n",
    "camels_ch_chem_catchment_boundaries"
   ]
  },
  {
   "cell_type": "code",
   "execution_count": null,
   "id": "cfd9c912",
   "metadata": {},
   "outputs": [],
   "source": [
    "camels_ch_chem_catchment_boundaries_nawaf = gpd.read_file(\"results\\Dataset\\shapefiles\\\\nawa_fracht_del\\camels_ch_chem_catchment_boundaries_nawaf.shp\")\n",
    "camels_ch_chem_catchment_boundaries_nawaf.set_index(\"gauge_id\", inplace=True)\n",
    "camels_ch_chem_catchment_boundaries_nawaf[[\"gauge_east\", \"gauge_nort\"]] = network_camels_ch_chem[[\"gauge_easting\", \"gauge_northing\"]]\n",
    "camels_ch_chem_catchment_boundaries_nawaf"
   ]
  },
  {
   "cell_type": "code",
   "execution_count": null,
   "id": "0661d528",
   "metadata": {},
   "outputs": [],
   "source": [
    "camels_ch_chem_catchment_boundaries_nawat = gpd.read_file(\"results\\Dataset\\shapefiles\\\\nawa_trend_del\\camels_ch_chem_catchment_boundaries_nawat.shp\")\n",
    "camels_ch_chem_catchment_boundaries_nawat.set_index(\"gauge_id\", inplace=True)\n",
    "camels_ch_chem_catchment_boundaries_nawat[[\"gauge_east\", \"gauge_nort\"]] = network_camels_ch_chem[[\"gauge_easting\", \"gauge_northing\"]]\n",
    "camels_ch_chem_catchment_boundaries_nawat"
   ]
  },
  {
   "cell_type": "code",
   "execution_count": null,
   "id": "320d2a56",
   "metadata": {},
   "outputs": [],
   "source": [
    "camels_ch_chem_catchment_boundaries.to_file(\"results\\\\Dataset\\shapefiles\\\\camels_ch_del\\\\camels_ch_chem_catchment_boundaries.shp\")\n",
    "camels_ch_chem_catchment_boundaries_nawaf.to_file(\"results\\\\Dataset\\shapefiles\\\\nawa_fracht_del\\\\camels_ch_chem_catchment_boundaries_nawaf.shp\")\n",
    "camels_ch_chem_catchment_boundaries_nawat.to_file(\"results\\\\Dataset\\shapefiles\\\\nawa_trend_del\\\\camels_ch_chem_catchment_boundaries_nawat.shp\")"
   ]
  },
  {
   "cell_type": "code",
   "execution_count": null,
   "id": "949c9c7e",
   "metadata": {},
   "outputs": [],
   "source": [
    "network_camels_ch_chem[~network_camels_ch_chem.sensor_id.isna()].index.tolist()[80:]"
   ]
  },
  {
   "cell_type": "markdown",
   "id": "b608e26e",
   "metadata": {},
   "source": [
    "# End"
   ]
  }
 ],
 "metadata": {
  "kernelspec": {
   "display_name": "Python 3",
   "language": "python",
   "name": "python3"
  },
  "language_info": {
   "codemirror_mode": {
    "name": "ipython",
    "version": 3
   },
   "file_extension": ".py",
   "mimetype": "text/x-python",
   "name": "python",
   "nbconvert_exporter": "python",
   "pygments_lexer": "ipython3",
   "version": "3.9.18"
  }
 },
 "nbformat": 4,
 "nbformat_minor": 5
}
