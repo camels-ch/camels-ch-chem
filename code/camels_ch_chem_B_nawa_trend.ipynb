{
 "cells": [
  {
   "attachments": {},
   "cell_type": "markdown",
   "id": "46e94d6f",
   "metadata": {},
   "source": [
    "# NAWA TREND dataset extraction\n",
    "\n",
    "Author: Thiago Nascimento (thiago.nascimento@eawag.ch)\n",
    "\n",
    "This notebook is used to retrieve and concatenate the NAWA TREND dataset. \n",
    "\n",
    "The output is one file per catchemnt (similar to the CAMELS-CH), with 22 columns:\n",
    "\n",
    "- date\n",
    "- NH4_N\n",
    "- Cl\n",
    "- q_max_kanton \n",
    "- q_min_kanton\n",
    "- q_mean_kanton\n",
    "- q_mean_sensor\n",
    "- doc\n",
    "- ec25_lab\n",
    "- ec25_sensor\n",
    "- tp\n",
    "- tn\n",
    "- NO3_N\n",
    "- NO2_N \n",
    "- drp\n",
    "- pH_lab\n",
    "- pH_sensor\n",
    "- O2_lab\n",
    "- O2_sensor \n",
    "- O2S_sensor\n",
    "- turbidity_sensor\n",
    "- temp_lab\n",
    "- temp_sensor\n",
    "\n",
    "\n",
    "## Requirements\n",
    "**Python:**\n",
    "\n",
    "* Python>=3.6\n",
    "* Jupyter\n",
    "* geopandas=0.10.2\n",
    "* numpy\n",
    "* os\n",
    "* pandas=2.1.3\n",
    "* tqdm\n",
    "\n",
    "Check the Github repository for an environment.yml (for conda environments) or requirements.txt (pip) file.\n",
    "\n",
    "**Files:**\n",
    "\n",
    "* nawa_data_neu_v5.xlsx\n",
    "* CAMELS_CH_chem_stations_short_v3.xlsx\n",
    "\n",
    "\n",
    "**Directory:**\n",
    "\n",
    "* Clone the GitHub directory locally\n",
    "* Place any third-data variables in their respective directory.\n",
    "* ONLY update the \"PATH\" variable in the section \"Configurations\", with their relative path to the EStreams directory. \n",
    "\n",
    "\n",
    "## References\n",
    "* NAWA. National Surface Water Quality Monitoring Programme. https://www.bafu.admin.ch/bafu/en/home/topics/water/state/water--monitoring-networks/national-surface-water-quality-monitoring-programme--nawa-.html (last access: 15 May 2023).\n",
    "## Observations\n",
    "* None"
   ]
  },
  {
   "cell_type": "markdown",
   "id": "1f7648ab",
   "metadata": {},
   "source": [
    "# Import modules"
   ]
  },
  {
   "cell_type": "code",
   "execution_count": null,
   "id": "04f6e053",
   "metadata": {},
   "outputs": [],
   "source": [
    "import pandas as pd\n",
    "import tqdm as tqdm\n",
    "import os\n",
    "import warnings"
   ]
  },
  {
   "cell_type": "markdown",
   "id": "134a0050",
   "metadata": {},
   "source": [
    "# Configurations"
   ]
  },
  {
   "cell_type": "code",
   "execution_count": null,
   "id": "ec3eb41f",
   "metadata": {},
   "outputs": [],
   "source": [
    "# Only editable variables:\n",
    "# Relative path to your local directory\n",
    "PATH = \"../..\"\n",
    "\n",
    "# Suppress all warnings\n",
    "warnings.filterwarnings(\"ignore\")\n",
    "\n",
    "# Path to where the data are stored\n",
    "path_nawa = r\"C:\\Users\\nascimth\\Documents\\data\\CAMELS_CH_Chem\\\\\"\n",
    "\n",
    "PATH_OUTPUT = r\"results\\Dataset\\stream_water_chemistry\\interval_samples\"\n"
   ]
  },
  {
   "cell_type": "markdown",
   "id": "0b0c1c1e",
   "metadata": {},
   "source": [
    "* #### The users should NOT change anything in the code below here. "
   ]
  },
  {
   "cell_type": "code",
   "execution_count": null,
   "id": "9d25b417",
   "metadata": {},
   "outputs": [],
   "source": [
    "# Non-editable variables:\n",
    "# Set the directory:\n",
    "os.chdir(PATH)"
   ]
  },
  {
   "cell_type": "markdown",
   "id": "8b54907f",
   "metadata": {},
   "source": [
    "# Import data\n",
    "* FULL dataset"
   ]
  },
  {
   "cell_type": "code",
   "execution_count": null,
   "id": "7624f7af",
   "metadata": {},
   "outputs": [],
   "source": [
    "# Full dataset of interval (time-series)\n",
    "dataset_nawa = pd.read_excel(path_nawa+\"data\\\\NAWA/nawa_data_neu_v5.xlsx\")\n",
    "dataset_nawa"
   ]
  },
  {
   "cell_type": "markdown",
   "id": "46c9d31d",
   "metadata": {},
   "source": [
    "- Network"
   ]
  },
  {
   "cell_type": "code",
   "execution_count": null,
   "id": "63b4579c",
   "metadata": {},
   "outputs": [],
   "source": [
    "# Network NAWA\n",
    "network_nawa = pd.read_excel(path_nawa+\"data\\\\CAMELS_CH_chem_stations_short_v3.xlsx\", sheet_name='nawa')\n",
    "network_nawa"
   ]
  },
  {
   "cell_type": "markdown",
   "id": "e9300033",
   "metadata": {},
   "source": [
    "### Renaming the columns"
   ]
  },
  {
   "cell_type": "code",
   "execution_count": null,
   "id": "54bc2d50",
   "metadata": {},
   "outputs": [],
   "source": [
    "dataset_nawa.columns"
   ]
  },
  {
   "cell_type": "code",
   "execution_count": null,
   "id": "d9dcd49a",
   "metadata": {},
   "outputs": [],
   "source": [
    "dataset_nawa.columns = ['nawatrend_id', 'date', 'NH4_N', 'Cl', 'q_max_kanton', \n",
    "                        'q_min_kanton', 'q_mean_kanton', 'q_mean_sensor', 'doc',\n",
    "                        'ec25_lab', 'ec25_sensor', 'tp', 'tn', 'NO3_N', 'NO2_N', \n",
    "                        'drp', 'pH_lab', 'pH_sensor', 'O2_lab', 'O2_sensor', \n",
    "                        'O2S_sensor', 'turbidity_sensor', 'temp_lab', 'temp_sensor']"
   ]
  },
  {
   "cell_type": "code",
   "execution_count": null,
   "id": "5c434938",
   "metadata": {},
   "outputs": [],
   "source": [
    "dataset_nawa"
   ]
  },
  {
   "cell_type": "code",
   "execution_count": null,
   "id": "1d40c658",
   "metadata": {},
   "outputs": [],
   "source": [
    "# Function to round numbers and preserve symbols\n",
    "def round_values(val):\n",
    "    if isinstance(val, str):  # Handle string values with symbols\n",
    "        if val.startswith('>') or val.startswith('<'):\n",
    "            symbol = val[0]  # Extract the symbol ('>' or '<')\n",
    "            try:\n",
    "                number = float(val[1:])  # Convert the rest to a float\n",
    "                return f\"{symbol}{round(number, 4)}\"\n",
    "            except ValueError:  # Handle cases where conversion might fail\n",
    "                return val\n",
    "        else:\n",
    "            try:\n",
    "                return str(round(float(val), 4))  # Round plain string numbers\n",
    "            except ValueError:\n",
    "                return val  # Return original value if conversion fails\n",
    "    elif isinstance(val, (int, float)):  # Handle numeric values\n",
    "        return round(val, 4)\n",
    "    return val  # Return unchanged if it's neither string nor numeric"
   ]
  },
  {
   "cell_type": "code",
   "execution_count": null,
   "id": "a15d581e",
   "metadata": {},
   "outputs": [],
   "source": [
    "network_nawa"
   ]
  },
  {
   "cell_type": "code",
   "execution_count": null,
   "id": "6403555f",
   "metadata": {},
   "outputs": [],
   "source": [
    "# Network CAMELS_CH_Chem\n",
    "network_camels_ch_chem = pd.read_excel(path_nawa+r\"data/CAMELS_CH_chem_stations_short_v3.xlsx\", sheet_name='all_5')\n",
    "#network_camels_ch_chem.set_index(\"basin_id\", inplace=True)\n",
    "network_camels_ch_chem"
   ]
  },
  {
   "cell_type": "code",
   "execution_count": null,
   "id": "cb05c0b2",
   "metadata": {},
   "outputs": [],
   "source": [
    "code =network_nawa.nawa_id[0]\n",
    "dataset = dataset_nawa[dataset_nawa[\"nawatrend_id\"] == code]\n",
    "dataset.set_index(\"date\", inplace = True)\n",
    "dataset.drop([\"nawatrend_id\"], axis=1, inplace = True)\n",
    "    \n",
    "dataset.index.name = \"date\"\n",
    "    \n",
    "# Apply the function to the column\n",
    "dataset = dataset.applymap(round_values)\n",
    "\n",
    "dataset"
   ]
  },
  {
   "cell_type": "code",
   "execution_count": null,
   "id": "e8c14cb2",
   "metadata": {},
   "outputs": [],
   "source": [
    "for code in tqdm.tqdm(network_nawa.nawa_id):\n",
    "    \n",
    "    dataset = dataset_nawa[dataset_nawa[\"nawatrend_id\"] == code]\n",
    "    dataset.set_index(\"date\", inplace = True)\n",
    "    dataset.drop([\"nawatrend_id\"], axis=1, inplace = True)\n",
    "    \n",
    "    dataset.index.name = \"date\"\n",
    "    \n",
    "    # Apply the function to the column\n",
    "    dataset = dataset.applymap(round_values)\n",
    "\n",
    "    # There are some non-numeric things in the columns, instead of NaNs\n",
    "    #dataset = dataset.apply(pd.to_numeric, errors='coerce')\n",
    "    \n",
    "    # Here we take out the > or < before converting to a numeric value:\n",
    "    #dataset = dataset.applymap(lambda x: str(x).replace('<', '') if isinstance(x, str) else x)\n",
    "    #dataset = dataset.applymap(lambda x: str(x).replace('>', '') if isinstance(x, str) else x)\n",
    "\n",
    "    # There are some non-numeric things in the columns, instead of NaNs\n",
    "    #dataset = dataset.apply(pd.to_numeric, errors='coerce')\n",
    "\n",
    "    #dataset = dataset.round(4)\n",
    "    basin_id_name = str(network_camels_ch_chem[network_camels_ch_chem.nawa_id == code].loc[:, \"basin_id\"].values[0])\n",
    "\n",
    "    dataset.to_csv(PATH_OUTPUT + \"/nawa_trend/camels_ch_chem_nawatrend_\"+str(basin_id_name)+\".csv\", encoding='latin')\n",
    "    "
   ]
  },
  {
   "cell_type": "markdown",
   "id": "ac1b686e",
   "metadata": {},
   "source": [
    "Observations\n",
    "- We have 76 stations in total from NAWA-Trend\n",
    "- The non-numeric values are kept (> or <)"
   ]
  },
  {
   "cell_type": "markdown",
   "id": "b608e26e",
   "metadata": {},
   "source": [
    "# End"
   ]
  }
 ],
 "metadata": {
  "kernelspec": {
   "display_name": "Python 3",
   "language": "python",
   "name": "python3"
  },
  "language_info": {
   "codemirror_mode": {
    "name": "ipython",
    "version": 3
   },
   "file_extension": ".py",
   "mimetype": "text/x-python",
   "name": "python",
   "nbconvert_exporter": "python",
   "pygments_lexer": "ipython3",
   "version": "3.9.18"
  }
 },
 "nbformat": 4,
 "nbformat_minor": 5
}
