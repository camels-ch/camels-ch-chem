{
 "cells": [
  {
   "cell_type": "markdown",
   "id": "46e94d6f",
   "metadata": {},
   "source": [
    "# Metadata\n",
    "\n",
    "Author: Thiago Nascimento (thiago.nascimento@eawag.ch)\n",
    "\n",
    "This notebook is used to derive all needed metadata for CAMELS-CH-Chem.\n",
    "\n",
    "## Requirements\n",
    "**Python:**\n",
    "\n",
    "* Python>=3.6\n",
    "* Jupyter\n",
    "* geopandas=0.10.2\n",
    "* numpy\n",
    "* os\n",
    "* pandas=2.1.3\n",
    "* tqdm\n",
    "\n",
    "Check the Github repository for an environment.yml (for conda environments) or requirements.txt (pip) file.\n",
    "\n",
    "**Files:**\n",
    "\n",
    "* All original files. \n",
    "\n",
    "\n",
    "**Directory:**\n",
    "\n",
    "* Clone the GitHub directory locally\n",
    "* Place any third-data variables in their respective directory.\n",
    "* ONLY update the \"PATH\" variable in the section \"Configurations\", with their relative path to the EStreams directory. \n",
    "\n",
    "\n",
    "## References\n",
    "* \n",
    "## Observations\n",
    "* None"
   ]
  },
  {
   "cell_type": "markdown",
   "id": "1f7648ab",
   "metadata": {},
   "source": [
    "# Import modules"
   ]
  },
  {
   "cell_type": "code",
   "execution_count": null,
   "id": "04f6e053",
   "metadata": {},
   "outputs": [],
   "source": [
    "import pandas as pd\n",
    "import numpy as np\n",
    "import tqdm as tqdm\n",
    "import os\n",
    "import glob\n",
    "import warnings\n",
    "import geopandas as gpd\n",
    "import os\n",
    "from pathlib import Path"
   ]
  },
  {
   "cell_type": "markdown",
   "id": "134a0050",
   "metadata": {},
   "source": [
    "# Configurations"
   ]
  },
  {
   "cell_type": "code",
   "execution_count": null,
   "id": "ec3eb41f",
   "metadata": {},
   "outputs": [],
   "source": [
    "# Only editable variables:\n",
    "# Relative path to your local directory\n",
    "PATH = \"../..\"\n",
    "\n",
    "# Suppress all warnings\n",
    "warnings.filterwarnings(\"ignore\")\n",
    "\n",
    "# Path to where the data are stored\n",
    "path_data = r\"C:\\Users\\nascimth\\Documents\\data\\CAMELS_CH_Chem\\data\"\n",
    "path_isot = Path(r\"C:\\Users\\nascimth\\Documents\\data\\CAMELS_CH_Chem\\data\\CH_IRP\\isotopes_streamflow\\isotopes_streamflow\\\\\")\n"
   ]
  },
  {
   "cell_type": "markdown",
   "id": "0b0c1c1e",
   "metadata": {},
   "source": [
    "* #### The users should NOT change anything in the code below here. "
   ]
  },
  {
   "cell_type": "code",
   "execution_count": null,
   "id": "9d25b417",
   "metadata": {},
   "outputs": [],
   "source": [
    "# Non-editable variables:\n",
    "# Set the directory:\n",
    "os.chdir(PATH)"
   ]
  },
  {
   "cell_type": "markdown",
   "id": "8b54907f",
   "metadata": {},
   "source": [
    "# Import data"
   ]
  },
  {
   "cell_type": "markdown",
   "id": "a51f1511",
   "metadata": {},
   "source": [
    "## Metadata"
   ]
  },
  {
   "cell_type": "code",
   "execution_count": null,
   "id": "916e10a6",
   "metadata": {},
   "outputs": [],
   "source": [
    "# Network CAMELS-CH\n",
    "network_camels_ch_chem = pd.read_csv(r\"results\\Dataset\\gauges_metadata\\camels_ch_chem_gauges_metadata.csv\", encoding='utf-8', sep= \",\")\n",
    "network_camels_ch_chem.set_index(\"gauge_id\", inplace=True)\n",
    "network_camels_ch_chem"
   ]
  },
  {
   "cell_type": "code",
   "execution_count": null,
   "id": "80d6ab15",
   "metadata": {},
   "outputs": [],
   "source": [
    "network_camels_ch_chem.columns"
   ]
  },
  {
   "cell_type": "code",
   "execution_count": null,
   "id": "52371f13",
   "metadata": {},
   "outputs": [],
   "source": [
    "network_camels_ch_chem.area_swiss_perc = network_camels_ch_chem.area_swiss_perc.round(1)"
   ]
  },
  {
   "cell_type": "code",
   "execution_count": null,
   "id": "57c6c888",
   "metadata": {},
   "outputs": [],
   "source": [
    "network_camels_ch_chem.q_nawat_corrector = network_camels_ch_chem.q_nawat_corrector.round(3)"
   ]
  },
  {
   "cell_type": "code",
   "execution_count": null,
   "id": "6606c00c",
   "metadata": {},
   "outputs": [],
   "source": [
    "network_camels_ch_chem.to_csv(r\"results\\Dataset\\gauges_metadata\\camels_ch_chem_gauges_metadata.csv\", encoding='utf-8')"
   ]
  },
  {
   "cell_type": "markdown",
   "id": "894bed38",
   "metadata": {},
   "source": [
    "# Datasets"
   ]
  },
  {
   "cell_type": "code",
   "execution_count": null,
   "id": "5a69c2e6",
   "metadata": {},
   "outputs": [],
   "source": [
    "# Set your target folder path here\n",
    "#folder_path = 'results\\Dataset\\catchment_aggregated_data\\\\agricultural_data'\n",
    "#folder_path = 'results\\Dataset\\catchment_aggregated_data\\\\atmospheric_deposition'\n",
    "folder_path = 'results\\Dataset\\stream_water_isotopes\\isot'\n",
    "\n",
    "# Loop through all files in the folder\n",
    "for filename in os.listdir(folder_path):\n",
    "    if filename.endswith('.csv'):\n",
    "        file_path = os.path.join(folder_path, filename)\n",
    "\n",
    "        try:\n",
    "            # Read the CSV file\n",
    "            df = pd.read_csv(file_path)\n",
    "\n",
    "            # Round numeric columns to 3 decimals\n",
    "            df = df.apply(lambda x: np.round(x, 4) if np.issubdtype(x.dtype, np.number) else x)\n",
    "\n",
    "            # Save it back to the same file\n",
    "            df.to_csv(file_path, index=False)\n",
    "            print(f\"Processed: {filename}\")\n",
    "\n",
    "        except Exception as e:\n",
    "            print(f\"Failed to process {filename}: {e}\")\n"
   ]
  }
 ],
 "metadata": {
  "kernelspec": {
   "display_name": "Python 3",
   "language": "python",
   "name": "python3"
  },
  "language_info": {
   "codemirror_mode": {
    "name": "ipython",
    "version": 3
   },
   "file_extension": ".py",
   "mimetype": "text/x-python",
   "name": "python",
   "nbconvert_exporter": "python",
   "pygments_lexer": "ipython3",
   "version": "3.9.18"
  }
 },
 "nbformat": 4,
 "nbformat_minor": 5
}
